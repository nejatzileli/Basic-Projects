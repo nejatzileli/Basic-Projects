{
 "cells": [
  {
   "cell_type": "code",
   "execution_count": 1,
   "id": "943620ec",
   "metadata": {
    "_cell_guid": "b1076dfc-b9ad-4769-8c92-a6c4dae69d19",
    "_uuid": "8f2839f25d086af736a60e9eeb907d3b93b6e0e5",
    "execution": {
     "iopub.execute_input": "2022-10-09T19:59:41.248456Z",
     "iopub.status.busy": "2022-10-09T19:59:41.247094Z",
     "iopub.status.idle": "2022-10-09T19:59:41.265450Z",
     "shell.execute_reply": "2022-10-09T19:59:41.264180Z"
    },
    "papermill": {
     "duration": 0.043946,
     "end_time": "2022-10-09T19:59:41.268100",
     "exception": false,
     "start_time": "2022-10-09T19:59:41.224154",
     "status": "completed"
    },
    "tags": []
   },
   "outputs": [
    {
     "name": "stdout",
     "output_type": "stream",
     "text": [
      "/kaggle/input/nycrollingsales/nyc-rolling-sales.csv\n"
     ]
    }
   ],
   "source": [
    "# This Python 3 environment comes with many helpful analytics libraries installed\n",
    "# It is defined by the kaggle/python Docker image: https://github.com/kaggle/docker-python\n",
    "# For example, here's several helpful packages to load\n",
    "\n",
    "import numpy as np # linear algebra\n",
    "import pandas as pd # data processing, CSV file I/O (e.g. pd.read_csv)\n",
    "import matplotlib.pyplot as plt\n",
    "\n",
    "# Input data files are available in the read-only \"../input/\" directory\n",
    "# For example, running this (by clicking run or pressing Shift+Enter) will list all files under the input directory\n",
    "\n",
    "import os\n",
    "for dirname, _, filenames in os.walk('/kaggle/input'):\n",
    "    for filename in filenames:\n",
    "        print(os.path.join(dirname, filename))\n",
    "\n",
    "# You can write up to 20GB to the current directory (/kaggle/working/) that gets preserved as output when you create a version using \"Save & Run All\" \n",
    "# You can also write temporary files to /kaggle/temp/, but they won't be saved outside of the current session"
   ]
  },
  {
   "cell_type": "code",
   "execution_count": 2,
   "id": "3e07ed75",
   "metadata": {
    "execution": {
     "iopub.execute_input": "2022-10-09T19:59:41.305924Z",
     "iopub.status.busy": "2022-10-09T19:59:41.305053Z",
     "iopub.status.idle": "2022-10-09T19:59:43.655864Z",
     "shell.execute_reply": "2022-10-09T19:59:43.654510Z"
    },
    "papermill": {
     "duration": 2.372864,
     "end_time": "2022-10-09T19:59:43.658778",
     "exception": false,
     "start_time": "2022-10-09T19:59:41.285914",
     "status": "completed"
    },
    "tags": []
   },
   "outputs": [
    {
     "data": {
      "text/html": [
       "<style type='text/css'>\n",
       ".datatable table.frame { margin-bottom: 0; }\n",
       ".datatable table.frame thead { border-bottom: none; }\n",
       ".datatable table.frame tr.coltypes td {  color: #FFFFFF;  line-height: 6px;  padding: 0 0.5em;}\n",
       ".datatable .bool    { background: #DDDD99; }\n",
       ".datatable .object  { background: #565656; }\n",
       ".datatable .int     { background: #5D9E5D; }\n",
       ".datatable .float   { background: #4040CC; }\n",
       ".datatable .str     { background: #CC4040; }\n",
       ".datatable .time    { background: #40CC40; }\n",
       ".datatable .row_index {  background: var(--jp-border-color3);  border-right: 1px solid var(--jp-border-color0);  color: var(--jp-ui-font-color3);  font-size: 9px;}\n",
       ".datatable .frame tbody td { text-align: left; }\n",
       ".datatable .frame tr.coltypes .row_index {  background: var(--jp-border-color0);}\n",
       ".datatable th:nth-child(2) { padding-left: 12px; }\n",
       ".datatable .hellipsis {  color: var(--jp-cell-editor-border-color);}\n",
       ".datatable .vellipsis {  background: var(--jp-layout-color0);  color: var(--jp-cell-editor-border-color);}\n",
       ".datatable .na {  color: var(--jp-cell-editor-border-color);  font-size: 80%;}\n",
       ".datatable .sp {  opacity: 0.25;}\n",
       ".datatable .footer { font-size: 9px; }\n",
       ".datatable .frame_dimensions {  background: var(--jp-border-color3);  border-top: 1px solid var(--jp-border-color0);  color: var(--jp-ui-font-color3);  display: inline-block;  opacity: 0.6;  padding: 1px 10px 1px 5px;}\n",
       "</style>\n"
      ],
      "text/plain": [
       "<IPython.core.display.HTML object>"
      ]
     },
     "metadata": {},
     "output_type": "display_data"
    }
   ],
   "source": [
    "import seaborn as sns\n",
    "import numpy as np # linear algebra\n",
    "import pandas as pd # data processing, CSV file I/O (e.g. pd.read_csv)\n",
    "\n",
    "from lightgbm import LGBMRegressor\n",
    "from sklearn.ensemble import RandomForestRegressor, GradientBoostingRegressor\n",
    "from sklearn.exceptions import ConvergenceWarning\n",
    "from sklearn.linear_model import LinearRegression, Ridge, Lasso, ElasticNet\n",
    "from sklearn.neighbors import KNeighborsRegressor\n",
    "from sklearn.svm import SVR\n",
    "from sklearn.tree import DecisionTreeRegressor\n",
    "from xgboost import XGBRegressor\n",
    "from sklearn.preprocessing import LabelEncoder\n",
    "from sklearn.metrics import mean_squared_error\n",
    "from sklearn.linear_model import LinearRegression\n",
    "from sklearn.model_selection import train_test_split, cross_val_score,GridSearchCV"
   ]
  },
  {
   "cell_type": "code",
   "execution_count": 3,
   "id": "f3399cbe",
   "metadata": {
    "execution": {
     "iopub.execute_input": "2022-10-09T19:59:43.695896Z",
     "iopub.status.busy": "2022-10-09T19:59:43.695429Z",
     "iopub.status.idle": "2022-10-09T19:59:43.701526Z",
     "shell.execute_reply": "2022-10-09T19:59:43.700394Z"
    },
    "papermill": {
     "duration": 0.027681,
     "end_time": "2022-10-09T19:59:43.704097",
     "exception": false,
     "start_time": "2022-10-09T19:59:43.676416",
     "status": "completed"
    },
    "tags": []
   },
   "outputs": [],
   "source": [
    "\n",
    "pd.set_option('display.max_columns', None)\n",
    "pd.set_option('display.max_rows', None)\n",
    "pd.set_option('display.width', None)\n",
    "pd.set_option('display.float_format', lambda x: '%.3f' % x)"
   ]
  },
  {
   "cell_type": "code",
   "execution_count": 4,
   "id": "50246607",
   "metadata": {
    "execution": {
     "iopub.execute_input": "2022-10-09T19:59:43.741564Z",
     "iopub.status.busy": "2022-10-09T19:59:43.741090Z",
     "iopub.status.idle": "2022-10-09T19:59:44.257444Z",
     "shell.execute_reply": "2022-10-09T19:59:44.256206Z"
    },
    "papermill": {
     "duration": 0.538538,
     "end_time": "2022-10-09T19:59:44.260378",
     "exception": false,
     "start_time": "2022-10-09T19:59:43.721840",
     "status": "completed"
    },
    "tags": []
   },
   "outputs": [],
   "source": [
    "data = pd.read_csv('../input/nycrollingsales/nyc-rolling-sales.csv')\n",
    "df = data.copy()"
   ]
  },
  {
   "cell_type": "markdown",
   "id": "ec57cedc",
   "metadata": {
    "papermill": {
     "duration": 0.017252,
     "end_time": "2022-10-09T19:59:44.295647",
     "exception": false,
     "start_time": "2022-10-09T19:59:44.278395",
     "status": "completed"
    },
    "tags": []
   },
   "source": [
    "## 1. Exploratory Data Analysis:"
   ]
  },
  {
   "cell_type": "code",
   "execution_count": 5,
   "id": "127e1998",
   "metadata": {
    "execution": {
     "iopub.execute_input": "2022-10-09T19:59:44.333964Z",
     "iopub.status.busy": "2022-10-09T19:59:44.332769Z",
     "iopub.status.idle": "2022-10-09T19:59:44.361858Z",
     "shell.execute_reply": "2022-10-09T19:59:44.360663Z"
    },
    "papermill": {
     "duration": 0.051254,
     "end_time": "2022-10-09T19:59:44.364580",
     "exception": false,
     "start_time": "2022-10-09T19:59:44.313326",
     "status": "completed"
    },
    "tags": []
   },
   "outputs": [
    {
     "data": {
      "text/html": [
       "<div>\n",
       "<style scoped>\n",
       "    .dataframe tbody tr th:only-of-type {\n",
       "        vertical-align: middle;\n",
       "    }\n",
       "\n",
       "    .dataframe tbody tr th {\n",
       "        vertical-align: top;\n",
       "    }\n",
       "\n",
       "    .dataframe thead th {\n",
       "        text-align: right;\n",
       "    }\n",
       "</style>\n",
       "<table border=\"1\" class=\"dataframe\">\n",
       "  <thead>\n",
       "    <tr style=\"text-align: right;\">\n",
       "      <th></th>\n",
       "      <th>Unnamed: 0</th>\n",
       "      <th>BOROUGH</th>\n",
       "      <th>NEIGHBORHOOD</th>\n",
       "      <th>BUILDING CLASS CATEGORY</th>\n",
       "      <th>TAX CLASS AT PRESENT</th>\n",
       "      <th>BLOCK</th>\n",
       "      <th>LOT</th>\n",
       "      <th>EASE-MENT</th>\n",
       "      <th>BUILDING CLASS AT PRESENT</th>\n",
       "      <th>ADDRESS</th>\n",
       "      <th>APARTMENT NUMBER</th>\n",
       "      <th>ZIP CODE</th>\n",
       "      <th>RESIDENTIAL UNITS</th>\n",
       "      <th>COMMERCIAL UNITS</th>\n",
       "      <th>TOTAL UNITS</th>\n",
       "      <th>LAND SQUARE FEET</th>\n",
       "      <th>GROSS SQUARE FEET</th>\n",
       "      <th>YEAR BUILT</th>\n",
       "      <th>TAX CLASS AT TIME OF SALE</th>\n",
       "      <th>BUILDING CLASS AT TIME OF SALE</th>\n",
       "      <th>SALE PRICE</th>\n",
       "      <th>SALE DATE</th>\n",
       "    </tr>\n",
       "  </thead>\n",
       "  <tbody>\n",
       "    <tr>\n",
       "      <th>0</th>\n",
       "      <td>4</td>\n",
       "      <td>1</td>\n",
       "      <td>ALPHABET CITY</td>\n",
       "      <td>07 RENTALS - WALKUP APARTMENTS</td>\n",
       "      <td>2A</td>\n",
       "      <td>392</td>\n",
       "      <td>6</td>\n",
       "      <td></td>\n",
       "      <td>C2</td>\n",
       "      <td>153 AVENUE B</td>\n",
       "      <td></td>\n",
       "      <td>10009</td>\n",
       "      <td>5</td>\n",
       "      <td>0</td>\n",
       "      <td>5</td>\n",
       "      <td>1633</td>\n",
       "      <td>6440</td>\n",
       "      <td>1900</td>\n",
       "      <td>2</td>\n",
       "      <td>C2</td>\n",
       "      <td>6625000</td>\n",
       "      <td>2017-07-19 00:00:00</td>\n",
       "    </tr>\n",
       "    <tr>\n",
       "      <th>1</th>\n",
       "      <td>5</td>\n",
       "      <td>1</td>\n",
       "      <td>ALPHABET CITY</td>\n",
       "      <td>07 RENTALS - WALKUP APARTMENTS</td>\n",
       "      <td>2</td>\n",
       "      <td>399</td>\n",
       "      <td>26</td>\n",
       "      <td></td>\n",
       "      <td>C7</td>\n",
       "      <td>234 EAST 4TH   STREET</td>\n",
       "      <td></td>\n",
       "      <td>10009</td>\n",
       "      <td>28</td>\n",
       "      <td>3</td>\n",
       "      <td>31</td>\n",
       "      <td>4616</td>\n",
       "      <td>18690</td>\n",
       "      <td>1900</td>\n",
       "      <td>2</td>\n",
       "      <td>C7</td>\n",
       "      <td>-</td>\n",
       "      <td>2016-12-14 00:00:00</td>\n",
       "    </tr>\n",
       "    <tr>\n",
       "      <th>2</th>\n",
       "      <td>6</td>\n",
       "      <td>1</td>\n",
       "      <td>ALPHABET CITY</td>\n",
       "      <td>07 RENTALS - WALKUP APARTMENTS</td>\n",
       "      <td>2</td>\n",
       "      <td>399</td>\n",
       "      <td>39</td>\n",
       "      <td></td>\n",
       "      <td>C7</td>\n",
       "      <td>197 EAST 3RD   STREET</td>\n",
       "      <td></td>\n",
       "      <td>10009</td>\n",
       "      <td>16</td>\n",
       "      <td>1</td>\n",
       "      <td>17</td>\n",
       "      <td>2212</td>\n",
       "      <td>7803</td>\n",
       "      <td>1900</td>\n",
       "      <td>2</td>\n",
       "      <td>C7</td>\n",
       "      <td>-</td>\n",
       "      <td>2016-12-09 00:00:00</td>\n",
       "    </tr>\n",
       "    <tr>\n",
       "      <th>3</th>\n",
       "      <td>7</td>\n",
       "      <td>1</td>\n",
       "      <td>ALPHABET CITY</td>\n",
       "      <td>07 RENTALS - WALKUP APARTMENTS</td>\n",
       "      <td>2B</td>\n",
       "      <td>402</td>\n",
       "      <td>21</td>\n",
       "      <td></td>\n",
       "      <td>C4</td>\n",
       "      <td>154 EAST 7TH STREET</td>\n",
       "      <td></td>\n",
       "      <td>10009</td>\n",
       "      <td>10</td>\n",
       "      <td>0</td>\n",
       "      <td>10</td>\n",
       "      <td>2272</td>\n",
       "      <td>6794</td>\n",
       "      <td>1913</td>\n",
       "      <td>2</td>\n",
       "      <td>C4</td>\n",
       "      <td>3936272</td>\n",
       "      <td>2016-09-23 00:00:00</td>\n",
       "    </tr>\n",
       "    <tr>\n",
       "      <th>4</th>\n",
       "      <td>8</td>\n",
       "      <td>1</td>\n",
       "      <td>ALPHABET CITY</td>\n",
       "      <td>07 RENTALS - WALKUP APARTMENTS</td>\n",
       "      <td>2A</td>\n",
       "      <td>404</td>\n",
       "      <td>55</td>\n",
       "      <td></td>\n",
       "      <td>C2</td>\n",
       "      <td>301 EAST 10TH   STREET</td>\n",
       "      <td></td>\n",
       "      <td>10009</td>\n",
       "      <td>6</td>\n",
       "      <td>0</td>\n",
       "      <td>6</td>\n",
       "      <td>2369</td>\n",
       "      <td>4615</td>\n",
       "      <td>1900</td>\n",
       "      <td>2</td>\n",
       "      <td>C2</td>\n",
       "      <td>8000000</td>\n",
       "      <td>2016-11-17 00:00:00</td>\n",
       "    </tr>\n",
       "  </tbody>\n",
       "</table>\n",
       "</div>"
      ],
      "text/plain": [
       "   Unnamed: 0  BOROUGH   NEIGHBORHOOD  \\\n",
       "0           4        1  ALPHABET CITY   \n",
       "1           5        1  ALPHABET CITY   \n",
       "2           6        1  ALPHABET CITY   \n",
       "3           7        1  ALPHABET CITY   \n",
       "4           8        1  ALPHABET CITY   \n",
       "\n",
       "                       BUILDING CLASS CATEGORY TAX CLASS AT PRESENT  BLOCK  \\\n",
       "0  07 RENTALS - WALKUP APARTMENTS                                2A    392   \n",
       "1  07 RENTALS - WALKUP APARTMENTS                                 2    399   \n",
       "2  07 RENTALS - WALKUP APARTMENTS                                 2    399   \n",
       "3  07 RENTALS - WALKUP APARTMENTS                                2B    402   \n",
       "4  07 RENTALS - WALKUP APARTMENTS                                2A    404   \n",
       "\n",
       "   LOT EASE-MENT BUILDING CLASS AT PRESENT                 ADDRESS  \\\n",
       "0    6                                  C2            153 AVENUE B   \n",
       "1   26                                  C7   234 EAST 4TH   STREET   \n",
       "2   39                                  C7   197 EAST 3RD   STREET   \n",
       "3   21                                  C4     154 EAST 7TH STREET   \n",
       "4   55                                  C2  301 EAST 10TH   STREET   \n",
       "\n",
       "  APARTMENT NUMBER  ZIP CODE  RESIDENTIAL UNITS  COMMERCIAL UNITS  \\\n",
       "0                      10009                  5                 0   \n",
       "1                      10009                 28                 3   \n",
       "2                      10009                 16                 1   \n",
       "3                      10009                 10                 0   \n",
       "4                      10009                  6                 0   \n",
       "\n",
       "   TOTAL UNITS LAND SQUARE FEET GROSS SQUARE FEET  YEAR BUILT  \\\n",
       "0            5             1633              6440        1900   \n",
       "1           31             4616             18690        1900   \n",
       "2           17             2212              7803        1900   \n",
       "3           10             2272              6794        1913   \n",
       "4            6             2369              4615        1900   \n",
       "\n",
       "   TAX CLASS AT TIME OF SALE BUILDING CLASS AT TIME OF SALE SALE PRICE  \\\n",
       "0                          2                             C2    6625000   \n",
       "1                          2                             C7        -     \n",
       "2                          2                             C7        -     \n",
       "3                          2                             C4    3936272   \n",
       "4                          2                             C2    8000000   \n",
       "\n",
       "             SALE DATE  \n",
       "0  2017-07-19 00:00:00  \n",
       "1  2016-12-14 00:00:00  \n",
       "2  2016-12-09 00:00:00  \n",
       "3  2016-09-23 00:00:00  \n",
       "4  2016-11-17 00:00:00  "
      ]
     },
     "execution_count": 5,
     "metadata": {},
     "output_type": "execute_result"
    }
   ],
   "source": [
    "df.head()"
   ]
  },
  {
   "cell_type": "code",
   "execution_count": 6,
   "id": "1d7e12ec",
   "metadata": {
    "execution": {
     "iopub.execute_input": "2022-10-09T19:59:44.404814Z",
     "iopub.status.busy": "2022-10-09T19:59:44.403689Z",
     "iopub.status.idle": "2022-10-09T19:59:44.646374Z",
     "shell.execute_reply": "2022-10-09T19:59:44.644886Z"
    },
    "papermill": {
     "duration": 0.265202,
     "end_time": "2022-10-09T19:59:44.649276",
     "exception": false,
     "start_time": "2022-10-09T19:59:44.384074",
     "status": "completed"
    },
    "tags": []
   },
   "outputs": [],
   "source": [
    "# empty data points are not set up properly\n",
    "df = df.replace(' -  ', np.nan)\n",
    "df = df.replace(' ', np.nan)\n",
    "df = df[df['LAND SQUARE FEET'].notna()]\n",
    "df = df[df['GROSS SQUARE FEET'].notna()]\n",
    "df = df[df['SALE PRICE'].notna()]"
   ]
  },
  {
   "cell_type": "code",
   "execution_count": 7,
   "id": "fa9bb49f",
   "metadata": {
    "execution": {
     "iopub.execute_input": "2022-10-09T19:59:44.687615Z",
     "iopub.status.busy": "2022-10-09T19:59:44.687167Z",
     "iopub.status.idle": "2022-10-09T19:59:44.811841Z",
     "shell.execute_reply": "2022-10-09T19:59:44.810601Z"
    },
    "papermill": {
     "duration": 0.147565,
     "end_time": "2022-10-09T19:59:44.814967",
     "exception": false,
     "start_time": "2022-10-09T19:59:44.667402",
     "status": "completed"
    },
    "tags": []
   },
   "outputs": [
    {
     "name": "stdout",
     "output_type": "stream",
     "text": [
      "##################### Shape #####################\n",
      "(48244, 22)\n",
      "##################### Types #####################\n",
      "Unnamed: 0                          int64\n",
      "BOROUGH                             int64\n",
      "NEIGHBORHOOD                       object\n",
      "BUILDING CLASS CATEGORY            object\n",
      "TAX CLASS AT PRESENT               object\n",
      "BLOCK                               int64\n",
      "LOT                                 int64\n",
      "EASE-MENT                         float64\n",
      "BUILDING CLASS AT PRESENT          object\n",
      "ADDRESS                            object\n",
      "APARTMENT NUMBER                   object\n",
      "ZIP CODE                            int64\n",
      "RESIDENTIAL UNITS                   int64\n",
      "COMMERCIAL UNITS                    int64\n",
      "TOTAL UNITS                         int64\n",
      "LAND SQUARE FEET                   object\n",
      "GROSS SQUARE FEET                  object\n",
      "YEAR BUILT                          int64\n",
      "TAX CLASS AT TIME OF SALE           int64\n",
      "BUILDING CLASS AT TIME OF SALE     object\n",
      "SALE PRICE                         object\n",
      "SALE DATE                          object\n",
      "dtype: object\n",
      "##################### Nunique #####################\n",
      "Unnamed: 0                        25498\n",
      "BOROUGH                               5\n",
      "NEIGHBORHOOD                        251\n",
      "BUILDING CLASS CATEGORY              47\n",
      "TAX CLASS AT PRESENT                 10\n",
      "BLOCK                             10549\n",
      "LOT                                1803\n",
      "EASE-MENT                             0\n",
      "BUILDING CLASS AT PRESENT           159\n",
      "ADDRESS                           42054\n",
      "APARTMENT NUMBER                   1558\n",
      "ZIP CODE                            180\n",
      "RESIDENTIAL UNITS                   157\n",
      "COMMERCIAL UNITS                     43\n",
      "TOTAL UNITS                         168\n",
      "LAND SQUARE FEET                   5173\n",
      "GROSS SQUARE FEET                  5090\n",
      "YEAR BUILT                          151\n",
      "TAX CLASS AT TIME OF SALE             4\n",
      "BUILDING CLASS AT TIME OF SALE      160\n",
      "SALE PRICE                         6231\n",
      "SALE DATE                           362\n",
      "dtype: int64\n",
      "##################### Head #####################\n",
      "   Unnamed: 0  BOROUGH   NEIGHBORHOOD  \\\n",
      "0           4        1  ALPHABET CITY   \n",
      "3           7        1  ALPHABET CITY   \n",
      "4           8        1  ALPHABET CITY   \n",
      "\n",
      "                       BUILDING CLASS CATEGORY TAX CLASS AT PRESENT  BLOCK  \\\n",
      "0  07 RENTALS - WALKUP APARTMENTS                                2A    392   \n",
      "3  07 RENTALS - WALKUP APARTMENTS                                2B    402   \n",
      "4  07 RENTALS - WALKUP APARTMENTS                                2A    404   \n",
      "\n",
      "   LOT  EASE-MENT BUILDING CLASS AT PRESENT                 ADDRESS  \\\n",
      "0    6        NaN                        C2            153 AVENUE B   \n",
      "3   21        NaN                        C4     154 EAST 7TH STREET   \n",
      "4   55        NaN                        C2  301 EAST 10TH   STREET   \n",
      "\n",
      "  APARTMENT NUMBER  ZIP CODE  RESIDENTIAL UNITS  COMMERCIAL UNITS  \\\n",
      "0              NaN     10009                  5                 0   \n",
      "3              NaN     10009                 10                 0   \n",
      "4              NaN     10009                  6                 0   \n",
      "\n",
      "   TOTAL UNITS LAND SQUARE FEET GROSS SQUARE FEET  YEAR BUILT  \\\n",
      "0            5             1633              6440        1900   \n",
      "3           10             2272              6794        1913   \n",
      "4            6             2369              4615        1900   \n",
      "\n",
      "   TAX CLASS AT TIME OF SALE BUILDING CLASS AT TIME OF SALE SALE PRICE  \\\n",
      "0                          2                             C2    6625000   \n",
      "3                          2                             C4    3936272   \n",
      "4                          2                             C2    8000000   \n",
      "\n",
      "             SALE DATE  \n",
      "0  2017-07-19 00:00:00  \n",
      "3  2016-09-23 00:00:00  \n",
      "4  2016-11-17 00:00:00  \n",
      "##################### Tail #####################\n",
      "       Unnamed: 0  BOROUGH NEIGHBORHOOD  \\\n",
      "84545        8411        5      WOODROW   \n",
      "84546        8412        5      WOODROW   \n",
      "84547        8413        5      WOODROW   \n",
      "\n",
      "                           BUILDING CLASS CATEGORY TAX CLASS AT PRESENT  \\\n",
      "84545  02 TWO FAMILY DWELLINGS                                        1   \n",
      "84546  22 STORE BUILDINGS                                             4   \n",
      "84547  35 INDOOR PUBLIC AND CULTURAL FACILITIES                       4   \n",
      "\n",
      "       BLOCK  LOT  EASE-MENT BUILDING CLASS AT PRESENT                ADDRESS  \\\n",
      "84545   7351   60        NaN                        B2       49 PITNEY AVENUE   \n",
      "84546   7100   28        NaN                        K6  2730 ARTHUR KILL ROAD   \n",
      "84547   7105  679        NaN                        P9      155 CLAY PIT ROAD   \n",
      "\n",
      "      APARTMENT NUMBER  ZIP CODE  RESIDENTIAL UNITS  COMMERCIAL UNITS  \\\n",
      "84545              NaN     10309                  2                 0   \n",
      "84546              NaN     10309                  0                 7   \n",
      "84547              NaN     10309                  0                 1   \n",
      "\n",
      "       TOTAL UNITS LAND SQUARE FEET GROSS SQUARE FEET  YEAR BUILT  \\\n",
      "84545            2             4000              1496        1925   \n",
      "84546            7           208033             64117        2001   \n",
      "84547            1            10796              2400        2006   \n",
      "\n",
      "       TAX CLASS AT TIME OF SALE BUILDING CLASS AT TIME OF SALE SALE PRICE  \\\n",
      "84545                          1                             B2     460000   \n",
      "84546                          4                             K6   11693337   \n",
      "84547                          4                             P9      69300   \n",
      "\n",
      "                 SALE DATE  \n",
      "84545  2017-07-05 00:00:00  \n",
      "84546  2016-12-21 00:00:00  \n",
      "84547  2016-10-27 00:00:00  \n",
      "##################### NA #####################\n",
      "Unnamed: 0                            0\n",
      "BOROUGH                               0\n",
      "NEIGHBORHOOD                          0\n",
      "BUILDING CLASS CATEGORY               0\n",
      "TAX CLASS AT PRESENT                352\n",
      "BLOCK                                 0\n",
      "LOT                                   0\n",
      "EASE-MENT                         48244\n",
      "BUILDING CLASS AT PRESENT           352\n",
      "ADDRESS                               0\n",
      "APARTMENT NUMBER                  41502\n",
      "ZIP CODE                              0\n",
      "RESIDENTIAL UNITS                     0\n",
      "COMMERCIAL UNITS                      0\n",
      "TOTAL UNITS                           0\n",
      "LAND SQUARE FEET                      0\n",
      "GROSS SQUARE FEET                     0\n",
      "YEAR BUILT                            0\n",
      "TAX CLASS AT TIME OF SALE             0\n",
      "BUILDING CLASS AT TIME OF SALE        0\n",
      "SALE PRICE                            0\n",
      "SALE DATE                             0\n",
      "dtype: int64\n",
      "##################### Quantiles #####################\n",
      "                           0.000     0.050     0.500     0.950     0.990  \\\n",
      "Unnamed: 0                 4.000   753.150  8084.000 23486.850 25586.570   \n",
      "BOROUGH                    1.000     2.000     3.000     5.000     5.000   \n",
      "BLOCK                      1.000   408.000  4660.500 11962.000 15576.280   \n",
      "LOT                        1.000     4.000    45.000  1205.000  1996.140   \n",
      "EASE-MENT                    NaN       NaN       NaN       NaN       NaN   \n",
      "ZIP CODE                   0.000 10304.000 11217.000 11428.000 11691.000   \n",
      "RESIDENTIAL UNITS          0.000     0.000     1.000     4.000    27.000   \n",
      "COMMERCIAL UNITS           0.000     0.000     0.000     1.000     3.000   \n",
      "TOTAL UNITS                0.000     0.000     1.000     6.000    29.000   \n",
      "YEAR BUILT                 0.000     0.000  1931.000  2011.000  2015.000   \n",
      "TAX CLASS AT TIME OF SALE  1.000     1.000     1.000     4.000     4.000   \n",
      "\n",
      "                              1.000  \n",
      "Unnamed: 0                26702.000  \n",
      "BOROUGH                       5.000  \n",
      "BLOCK                     16319.000  \n",
      "LOT                        9009.000  \n",
      "EASE-MENT                       NaN  \n",
      "ZIP CODE                  11694.000  \n",
      "RESIDENTIAL UNITS          1844.000  \n",
      "COMMERCIAL UNITS           2261.000  \n",
      "TOTAL UNITS                2261.000  \n",
      "YEAR BUILT                 2017.000  \n",
      "TAX CLASS AT TIME OF SALE     4.000  \n"
     ]
    }
   ],
   "source": [
    "\n",
    "def check_df(dataframe):\n",
    "    print(\"##################### Shape #####################\")\n",
    "    print(dataframe.shape)\n",
    "    print(\"##################### Types #####################\")\n",
    "    print(dataframe.dtypes)\n",
    "    print(\"##################### Nunique #####################\")\n",
    "    print(dataframe.nunique())\n",
    "    print(\"##################### Head #####################\")\n",
    "    print(dataframe.head(3))\n",
    "    print(\"##################### Tail #####################\")\n",
    "    print(dataframe.tail(3))\n",
    "    print(\"##################### NA #####################\")\n",
    "    print(dataframe.isnull().sum())\n",
    "    print(\"##################### Quantiles #####################\")\n",
    "    print(dataframe.quantile([0, 0.05, 0.50, 0.95, 0.99, 1]).T)    \n",
    "check_df(df)"
   ]
  },
  {
   "cell_type": "markdown",
   "id": "2ea28aff",
   "metadata": {
    "papermill": {
     "duration": 0.017675,
     "end_time": "2022-10-09T19:59:44.851170",
     "exception": false,
     "start_time": "2022-10-09T19:59:44.833495",
     "status": "completed"
    },
    "tags": []
   },
   "source": [
    "### DATA PREPROCESSING"
   ]
  },
  {
   "cell_type": "code",
   "execution_count": 8,
   "id": "fb73c1b9",
   "metadata": {
    "execution": {
     "iopub.execute_input": "2022-10-09T19:59:44.889274Z",
     "iopub.status.busy": "2022-10-09T19:59:44.888525Z",
     "iopub.status.idle": "2022-10-09T19:59:45.066253Z",
     "shell.execute_reply": "2022-10-09T19:59:45.065266Z"
    },
    "papermill": {
     "duration": 0.200024,
     "end_time": "2022-10-09T19:59:45.069056",
     "exception": false,
     "start_time": "2022-10-09T19:59:44.869032",
     "status": "completed"
    },
    "tags": []
   },
   "outputs": [],
   "source": [
    "## INITIAL PREPROCESSING ##\n",
    "# Object ===> numeric\n",
    "df['GROSS SQUARE FEET'] = pd.to_numeric(df['GROSS SQUARE FEET'], errors = 'coerce')\n",
    "df['LAND SQUARE FEET'] =  pd.to_numeric(df['LAND SQUARE FEET'], errors = 'coerce')\n",
    "df['SALE PRICE'] =  pd.to_numeric(df['SALE PRICE'], errors = 'coerce')\n",
    "# this column was empty\n",
    "df = df.drop('EASE-MENT',axis=1)\n",
    "df = df.drop('Unnamed: 0',axis=1)\n",
    "# Deleting duplicate values\n",
    "\n",
    "df = df.drop_duplicates(df.columns, keep='last')\n",
    "#sum(df.duplicated(df.columns))"
   ]
  },
  {
   "cell_type": "code",
   "execution_count": 9,
   "id": "fd605eaa",
   "metadata": {
    "execution": {
     "iopub.execute_input": "2022-10-09T19:59:45.107897Z",
     "iopub.status.busy": "2022-10-09T19:59:45.107205Z",
     "iopub.status.idle": "2022-10-09T19:59:45.114186Z",
     "shell.execute_reply": "2022-10-09T19:59:45.113187Z"
    },
    "papermill": {
     "duration": 0.028585,
     "end_time": "2022-10-09T19:59:45.116336",
     "exception": false,
     "start_time": "2022-10-09T19:59:45.087751",
     "status": "completed"
    },
    "tags": []
   },
   "outputs": [
    {
     "data": {
      "text/plain": [
       "(47896, 20)"
      ]
     },
     "execution_count": 9,
     "metadata": {},
     "output_type": "execute_result"
    }
   ],
   "source": [
    "df.shape"
   ]
  },
  {
   "cell_type": "code",
   "execution_count": 10,
   "id": "50d16065",
   "metadata": {
    "execution": {
     "iopub.execute_input": "2022-10-09T19:59:45.154900Z",
     "iopub.status.busy": "2022-10-09T19:59:45.154178Z",
     "iopub.status.idle": "2022-10-09T19:59:45.248120Z",
     "shell.execute_reply": "2022-10-09T19:59:45.246850Z"
    },
    "papermill": {
     "duration": 0.116702,
     "end_time": "2022-10-09T19:59:45.251117",
     "exception": false,
     "start_time": "2022-10-09T19:59:45.134415",
     "status": "completed"
    },
    "tags": []
   },
   "outputs": [
    {
     "name": "stdout",
     "output_type": "stream",
     "text": [
      "Observations: 47896\n",
      "Variables: 20\n",
      "cat_cols: 3\n",
      "num_cols: 10\n",
      "cat_but_car: 7\n",
      "num_but_cat: 2\n"
     ]
    }
   ],
   "source": [
    "\n",
    "def grab_col_names(dataframe, cat_th=10, car_th=20):\n",
    "    \"\"\"\n",
    "    grab_col_names for given dataframe\n",
    "\n",
    "    :param dataframe:\n",
    "    :param cat_th:\n",
    "    :param car_th:\n",
    "    :return:\n",
    "    \"\"\"\n",
    "\n",
    "    cat_cols = [col for col in dataframe.columns if dataframe[col].dtypes == \"O\"]\n",
    "\n",
    "    num_but_cat = [col for col in dataframe.columns if (dataframe[col].nunique() < cat_th) &\n",
    "                   (dataframe[col].dtypes != \"O\")]\n",
    "\n",
    "    cat_but_car = [col for col in dataframe.columns if (dataframe[col].nunique() > car_th) &\n",
    "                   (dataframe[col].dtypes == \"O\")]\n",
    "\n",
    "    cat_cols = cat_cols + num_but_cat\n",
    "    cat_cols = [col for col in cat_cols if col not in cat_but_car]\n",
    "\n",
    "    num_cols = [col for col in dataframe.columns if dataframe[col].dtypes != \"O\"]\n",
    "    num_cols = [col for col in num_cols if col not in num_but_cat]\n",
    "\n",
    "    print(f\"Observations: {dataframe.shape[0]}\")\n",
    "    print(f\"Variables: {dataframe.shape[1]}\")\n",
    "    print(f'cat_cols: {len(cat_cols)}')\n",
    "    print(f'num_cols: {len(num_cols)}')\n",
    "    print(f'cat_but_car: {len(cat_but_car)}')\n",
    "    print(f'num_but_cat: {len(num_but_cat)}')\n",
    "\n",
    "    # cat_cols + num_cols + cat_but_car = değişken sayısı.\n",
    "    # num_but_cat cat_cols'un içerisinde zaten.\n",
    "    # dolayısıyla tüm şu 3 liste ile tüm değişkenler seçilmiş olacaktır: cat_cols + num_cols + cat_but_car\n",
    "    # num_but_cat sadece raporlama için verilmiştir.\n",
    "\n",
    "    return cat_cols, cat_but_car, num_cols, num_but_cat\n",
    "\n",
    "\n",
    "cat_cols, cat_but_car, num_cols, num_but_cat = grab_col_names(df)\n"
   ]
  },
  {
   "cell_type": "code",
   "execution_count": 11,
   "id": "c4ba2e93",
   "metadata": {
    "execution": {
     "iopub.execute_input": "2022-10-09T19:59:45.290269Z",
     "iopub.status.busy": "2022-10-09T19:59:45.289796Z",
     "iopub.status.idle": "2022-10-09T19:59:45.295987Z",
     "shell.execute_reply": "2022-10-09T19:59:45.295149Z"
    },
    "papermill": {
     "duration": 0.02803,
     "end_time": "2022-10-09T19:59:45.298184",
     "exception": false,
     "start_time": "2022-10-09T19:59:45.270154",
     "status": "completed"
    },
    "tags": []
   },
   "outputs": [
    {
     "data": {
      "text/plain": [
       "['TAX CLASS AT PRESENT', 'BOROUGH', 'TAX CLASS AT TIME OF SALE']"
      ]
     },
     "execution_count": 11,
     "metadata": {},
     "output_type": "execute_result"
    }
   ],
   "source": [
    "cat_cols"
   ]
  },
  {
   "cell_type": "code",
   "execution_count": 12,
   "id": "167cb767",
   "metadata": {
    "execution": {
     "iopub.execute_input": "2022-10-09T19:59:45.336838Z",
     "iopub.status.busy": "2022-10-09T19:59:45.336152Z",
     "iopub.status.idle": "2022-10-09T19:59:45.346305Z",
     "shell.execute_reply": "2022-10-09T19:59:45.345251Z"
    },
    "papermill": {
     "duration": 0.032286,
     "end_time": "2022-10-09T19:59:45.348679",
     "exception": false,
     "start_time": "2022-10-09T19:59:45.316393",
     "status": "completed"
    },
    "tags": []
   },
   "outputs": [
    {
     "data": {
      "text/plain": [
       "1    32277\n",
       "2    12119\n",
       "4     3498\n",
       "3        2\n",
       "Name: TAX CLASS AT TIME OF SALE, dtype: int64"
      ]
     },
     "execution_count": 12,
     "metadata": {},
     "output_type": "execute_result"
    }
   ],
   "source": [
    "df['TAX CLASS AT TIME OF SALE'].value_counts()"
   ]
  },
  {
   "cell_type": "code",
   "execution_count": 13,
   "id": "aa10eb54",
   "metadata": {
    "execution": {
     "iopub.execute_input": "2022-10-09T19:59:45.388128Z",
     "iopub.status.busy": "2022-10-09T19:59:45.387242Z",
     "iopub.status.idle": "2022-10-09T19:59:45.399803Z",
     "shell.execute_reply": "2022-10-09T19:59:45.398668Z"
    },
    "papermill": {
     "duration": 0.034736,
     "end_time": "2022-10-09T19:59:45.401913",
     "exception": false,
     "start_time": "2022-10-09T19:59:45.367177",
     "status": "completed"
    },
    "tags": []
   },
   "outputs": [
    {
     "data": {
      "text/plain": [
       "1     31036\n",
       "2      7959\n",
       "4      3404\n",
       "2A     2075\n",
       "2C     1229\n",
       "2B      635\n",
       "1A      546\n",
       "1B      492\n",
       "1C      166\n",
       "3         2\n",
       "Name: TAX CLASS AT PRESENT, dtype: int64"
      ]
     },
     "execution_count": 13,
     "metadata": {},
     "output_type": "execute_result"
    }
   ],
   "source": [
    "df['TAX CLASS AT PRESENT'].value_counts()"
   ]
  },
  {
   "cell_type": "markdown",
   "id": "f81e843c",
   "metadata": {
    "papermill": {
     "duration": 0.01817,
     "end_time": "2022-10-09T19:59:45.438728",
     "exception": false,
     "start_time": "2022-10-09T19:59:45.420558",
     "status": "completed"
    },
    "tags": []
   },
   "source": [
    "## 1.1 Analysis of Categorical Features:"
   ]
  },
  {
   "cell_type": "code",
   "execution_count": 14,
   "id": "6eb9b957",
   "metadata": {
    "execution": {
     "iopub.execute_input": "2022-10-09T19:59:45.478573Z",
     "iopub.status.busy": "2022-10-09T19:59:45.477901Z",
     "iopub.status.idle": "2022-10-09T19:59:47.034376Z",
     "shell.execute_reply": "2022-10-09T19:59:47.033271Z"
    },
    "papermill": {
     "duration": 1.579156,
     "end_time": "2022-10-09T19:59:47.036730",
     "exception": false,
     "start_time": "2022-10-09T19:59:45.457574",
     "status": "completed"
    },
    "tags": []
   },
   "outputs": [
    {
     "name": "stdout",
     "output_type": "stream",
     "text": [
      "    TAX CLASS AT PRESENT  Ratio\n",
      "1                  31036 64.799\n",
      "2                   7959 16.617\n",
      "4                   3404  7.107\n",
      "2A                  2075  4.332\n",
      "2C                  1229  2.566\n",
      "2B                   635  1.326\n",
      "1A                   546  1.140\n",
      "1B                   492  1.027\n",
      "1C                   166  0.347\n",
      "3                      2  0.004\n"
     ]
    },
    {
     "data": {
      "image/png": "[encoded data removed]",
      "text/plain": [
       "<Figure size 432x288 with 1 Axes>"
      ]
     },
     "metadata": {
      "needs_background": "light"
     },
     "output_type": "display_data"
    },
    {
     "name": "stdout",
     "output_type": "stream",
     "text": [
      "   BOROUGH  Ratio\n",
      "3    23843 49.781\n",
      "4    11053 23.077\n",
      "2     6994 14.602\n",
      "5     5041 10.525\n",
      "1      965  2.015\n"
     ]
    },
    {
     "data": {
      "image/png": "[encoded data removed]",
      "text/plain": [
       "<Figure size 432x288 with 1 Axes>"
      ]
     },
     "metadata": {
      "needs_background": "light"
     },
     "output_type": "display_data"
    },
    {
     "name": "stdout",
     "output_type": "stream",
     "text": [
      "   TAX CLASS AT TIME OF SALE  Ratio\n",
      "1                      32277 67.390\n",
      "2                      12119 25.303\n",
      "4                       3498  7.303\n",
      "3                          2  0.004\n"
     ]
    },
    {
     "data": {
      "image/png": "[encoded data removed]",
      "text/plain": [
       "<Figure size 432x288 with 1 Axes>"
      ]
     },
     "metadata": {
      "needs_background": "light"
     },
     "output_type": "display_data"
    }
   ],
   "source": [
    "def cat_summary(dataframe, col_name, plot=False):\n",
    "    print(pd.DataFrame({col_name: dataframe[col_name].value_counts(),\n",
    "                        \"Ratio\": 100 * dataframe[col_name].value_counts() / len(dataframe)}))\n",
    "    if plot:\n",
    "        sns.countplot(x=dataframe[col_name], data=dataframe)\n",
    "        plt.show()\n",
    "\n",
    "for col in cat_cols:\n",
    "    cat_summary(df, col,plot = True)"
   ]
  },
  {
   "cell_type": "markdown",
   "id": "7f37ed75",
   "metadata": {
    "papermill": {
     "duration": 0.019412,
     "end_time": "2022-10-09T19:59:47.076245",
     "exception": false,
     "start_time": "2022-10-09T19:59:47.056833",
     "status": "completed"
    },
    "tags": []
   },
   "source": [
    "****CAP 1 -  Analysis for Categorics****\n",
    "1. CLASS 1 and CLASS 2 tax payers (at present) composes almost 82 percent of the whole population.\n",
    "2. CLASS 4, CLASS 3, CLASS 1 BOROUGH composes almost 80 percent of the whole population.\n",
    "3. CLASS 1 and CLASS 2 tax payers (at the time of sale) composes almost 81.\n",
    "4. 3rd Day of the week is the day which the most sales happened. 3rd, 2nd,4th are close to each other. 5th and 6th days are low.\n",
    "5. Outcome: For the data with low volumes, we can encode them as 'RARE'. Like for the ' sale day of week' feature, we can combine and encode 5th and 6th days as 'RARE'. Because their total ratio is almost 1.5% of the whole data."
   ]
  },
  {
   "cell_type": "markdown",
   "id": "7e76a6f9",
   "metadata": {
    "papermill": {
     "duration": 0.019009,
     "end_time": "2022-10-09T19:59:47.114649",
     "exception": false,
     "start_time": "2022-10-09T19:59:47.095640",
     "status": "completed"
    },
    "tags": []
   },
   "source": [
    "## 1.2 Analysis of Numerical Features"
   ]
  },
  {
   "cell_type": "code",
   "execution_count": 15,
   "id": "de17bd31",
   "metadata": {
    "execution": {
     "iopub.execute_input": "2022-10-09T19:59:47.155626Z",
     "iopub.status.busy": "2022-10-09T19:59:47.154798Z",
     "iopub.status.idle": "2022-10-09T19:59:48.930203Z",
     "shell.execute_reply": "2022-10-09T19:59:48.928958Z"
    },
    "papermill": {
     "duration": 1.798722,
     "end_time": "2022-10-09T19:59:48.932780",
     "exception": false,
     "start_time": "2022-10-09T19:59:47.134058",
     "status": "completed"
    },
    "tags": []
   },
   "outputs": [
    {
     "name": "stdout",
     "output_type": "stream",
     "text": [
      "count   47896.000\n",
      "mean     4994.515\n",
      "std      3429.465\n",
      "min         1.000\n",
      "5%        409.000\n",
      "10%       962.000\n",
      "20%      1775.000\n",
      "30%      2722.000\n",
      "40%      3683.000\n",
      "50%      4666.000\n",
      "60%      5500.000\n",
      "70%      6372.000\n",
      "80%      7618.000\n",
      "90%      9422.000\n",
      "95%     11966.000\n",
      "99%     15588.350\n",
      "max     16319.000\n",
      "Name: BLOCK, dtype: float64\n",
      "#####################################\n",
      "count   47896.000\n",
      "mean      234.777\n",
      "std       495.924\n",
      "min         1.000\n",
      "5%          4.000\n",
      "10%         9.000\n",
      "20%        17.000\n",
      "30%        26.000\n",
      "40%        35.000\n",
      "50%        45.000\n",
      "60%        57.000\n",
      "70%        73.000\n",
      "80%       142.000\n",
      "90%      1033.000\n",
      "95%      1206.000\n",
      "99%      1993.050\n",
      "max      9009.000\n",
      "Name: LOT, dtype: float64\n",
      "#####################################\n",
      "count   47896.000\n",
      "mean    10940.164\n",
      "std      1074.739\n",
      "min         0.000\n",
      "5%      10304.000\n",
      "10%     10312.000\n",
      "20%     10463.000\n",
      "30%     11201.000\n",
      "40%     11209.000\n",
      "50%     11217.000\n",
      "60%     11226.000\n",
      "70%     11234.000\n",
      "80%     11357.000\n",
      "90%     11414.000\n",
      "95%     11428.000\n",
      "99%     11691.000\n",
      "max     11694.000\n",
      "Name: ZIP CODE, dtype: float64\n",
      "#####################################\n",
      "count   47896.000\n",
      "mean        2.535\n",
      "std        17.170\n",
      "min         0.000\n",
      "5%          0.000\n",
      "10%         0.000\n",
      "20%         1.000\n",
      "30%         1.000\n",
      "40%         1.000\n",
      "50%         1.000\n",
      "60%         2.000\n",
      "70%         2.000\n",
      "80%         2.000\n",
      "90%         3.000\n",
      "95%         4.000\n",
      "99%        27.000\n",
      "max      1844.000\n",
      "Name: RESIDENTIAL UNITS, dtype: float64\n",
      "#####################################\n",
      "count   47896.000\n",
      "mean        0.237\n",
      "std        10.846\n",
      "min         0.000\n",
      "5%          0.000\n",
      "10%         0.000\n",
      "20%         0.000\n",
      "30%         0.000\n",
      "40%         0.000\n",
      "50%         0.000\n",
      "60%         0.000\n",
      "70%         0.000\n",
      "80%         0.000\n",
      "90%         0.000\n",
      "95%         1.000\n",
      "99%         3.000\n",
      "max      2261.000\n",
      "Name: COMMERCIAL UNITS, dtype: float64\n",
      "#####################################\n",
      "count   47896.000\n",
      "mean        2.791\n",
      "std        20.428\n",
      "min         0.000\n",
      "5%          0.000\n",
      "10%         0.000\n",
      "20%         1.000\n",
      "30%         1.000\n",
      "40%         1.000\n",
      "50%         1.000\n",
      "60%         2.000\n",
      "70%         2.000\n",
      "80%         2.000\n",
      "90%         3.000\n",
      "95%         5.000\n",
      "99%        28.000\n",
      "max      2261.000\n",
      "Name: TOTAL UNITS, dtype: float64\n",
      "#####################################\n",
      "count     47896.000\n",
      "mean       3270.904\n",
      "std       30549.843\n",
      "min           0.000\n",
      "5%            0.000\n",
      "10%           0.000\n",
      "20%           0.000\n",
      "30%        1700.000\n",
      "40%        2000.000\n",
      "50%        2133.000\n",
      "60%        2500.000\n",
      "70%        2790.000\n",
      "80%        3742.000\n",
      "90%        4840.000\n",
      "95%        6364.500\n",
      "99%       18310.750\n",
      "max     4228300.000\n",
      "Name: LAND SQUARE FEET, dtype: float64\n",
      "#####################################\n",
      "count     47896.000\n",
      "mean       3525.875\n",
      "std       29205.106\n",
      "min           0.000\n",
      "5%            0.000\n",
      "10%           0.000\n",
      "20%           0.000\n",
      "30%        1106.000\n",
      "40%        1352.000\n",
      "50%        1620.000\n",
      "60%        1938.000\n",
      "70%        2280.000\n",
      "80%        2816.000\n",
      "90%        3720.000\n",
      "95%        5900.000\n",
      "99%       39429.700\n",
      "max     3750565.000\n",
      "Name: GROSS SQUARE FEET, dtype: float64\n",
      "#####################################\n",
      "count   47896.000\n",
      "mean     1828.445\n",
      "std       463.083\n",
      "min         0.000\n",
      "5%          0.000\n",
      "10%      1900.000\n",
      "20%      1910.000\n",
      "30%      1920.000\n",
      "40%      1925.000\n",
      "50%      1931.000\n",
      "60%      1940.000\n",
      "70%      1955.000\n",
      "80%      1970.000\n",
      "90%      2005.000\n",
      "95%      2011.000\n",
      "99%      2015.000\n",
      "max      2017.000\n",
      "Name: YEAR BUILT, dtype: float64\n",
      "#####################################\n",
      "count        47896.000\n",
      "mean       1158309.949\n",
      "std       13442643.851\n",
      "min              0.000\n",
      "5%               0.000\n",
      "10%              0.000\n",
      "20%              0.000\n",
      "30%         225000.000\n",
      "40%         380000.000\n",
      "50%         485000.000\n",
      "60%         600000.000\n",
      "70%         740000.000\n",
      "80%         950000.000\n",
      "90%        1450000.000\n",
      "95%        2475000.000\n",
      "99%       11500000.000\n",
      "max     2210000000.000\n",
      "Name: SALE PRICE, dtype: float64\n",
      "#####################################\n"
     ]
    },
    {
     "data": {
      "image/png": "[encoded data removed]",
      "text/plain": [
       "<Figure size 720x432 with 1 Axes>"
      ]
     },
     "metadata": {
      "needs_background": "light"
     },
     "output_type": "display_data"
    },
    {
     "data": {
      "image/png": "[encoded data removed]",
      "text/plain": [
       "<Figure size 720x432 with 1 Axes>"
      ]
     },
     "metadata": {
      "needs_background": "light"
     },
     "output_type": "display_data"
    },
    {
     "data": {
      "image/png": "[encoded data removed]",
      "text/plain": [
       "<Figure size 720x432 with 1 Axes>"
      ]
     },
     "metadata": {
      "needs_background": "light"
     },
     "output_type": "display_data"
    },
    {
     "data": {
      "image/png": "[encoded data removed]",
      "text/plain": [
       "<Figure size 720x432 with 1 Axes>"
      ]
     },
     "metadata": {
      "needs_background": "light"
     },
     "output_type": "display_data"
    },
    {
     "data": {
      "image/png": "[encoded data removed]",
      "text/plain": [
       "<Figure size 720x432 with 1 Axes>"
      ]
     },
     "metadata": {
      "needs_background": "light"
     },
     "output_type": "display_data"
    },
    {
     "data": {
      "image/png": "[encoded data removed]",
      "text/plain": [
       "<Figure size 720x432 with 1 Axes>"
      ]
     },
     "metadata": {
      "needs_background": "light"
     },
     "output_type": "display_data"
    },
    {
     "data": {
      "image/png": "[encoded data removed]",
      "text/plain": [
       "<Figure size 720x432 with 1 Axes>"
      ]
     },
     "metadata": {
      "needs_background": "light"
     },
     "output_type": "display_data"
    },
    {
     "data": {
      "image/png": "[encoded data removed]",
      "text/plain": [
       "<Figure size 720x432 with 1 Axes>"
      ]
     },
     "metadata": {
      "needs_background": "light"
     },
     "output_type": "display_data"
    },
    {
     "data": {
      "image/png": "[encoded data removed]",
      "text/plain": [
       "<Figure size 720x432 with 1 Axes>"
      ]
     },
     "metadata": {
      "needs_background": "light"
     },
     "output_type": "display_data"
    },
    {
     "data": {
      "image/png": "[encoded data removed]",
      "text/plain": [
       "<Figure size 720x432 with 1 Axes>"
      ]
     },
     "metadata": {
      "needs_background": "light"
     },
     "output_type": "display_data"
    }
   ],
   "source": [
    "\n",
    "def num_summary(dataframe, numerical_col, plot=False):\n",
    "    quantiles = [0.05, 0.10, 0.20, 0.30, 0.40, 0.50, 0.60, 0.70, 0.80, 0.90, 0.95, 0.99]\n",
    "    print(dataframe[numerical_col].describe(quantiles).T)\n",
    "\n",
    "    if plot:\n",
    "        plt.figure(figsize=(10,6))\n",
    "        sns.boxplot(x=numerical_col, data=df)\n",
    "        \n",
    "        #dataframe[numerical_col].hist(bins = 100)\n",
    "        #plt.xlabel(numerical_col)\n",
    "        #plt.title(numerical_col)\n",
    "        #plt.show()\n",
    "\n",
    "    print(\"#####################################\")\n",
    "\n",
    "for col in num_cols:\n",
    "    num_summary(df, col,plot = True)"
   ]
  },
  {
   "cell_type": "code",
   "execution_count": 16,
   "id": "923c02d6",
   "metadata": {
    "execution": {
     "iopub.execute_input": "2022-10-09T19:59:48.979190Z",
     "iopub.status.busy": "2022-10-09T19:59:48.978103Z",
     "iopub.status.idle": "2022-10-09T19:59:48.999217Z",
     "shell.execute_reply": "2022-10-09T19:59:48.998106Z"
    },
    "papermill": {
     "duration": 0.047179,
     "end_time": "2022-10-09T19:59:49.001847",
     "exception": false,
     "start_time": "2022-10-09T19:59:48.954668",
     "status": "completed"
    },
    "tags": []
   },
   "outputs": [],
   "source": [
    "## Initial Preprocessing 2 ##\n",
    "\n",
    "# Getting Rid of Impossible Values:\n",
    "df[[\"TOTAL UNITS\", \"SALE PRICE\"]].groupby(['TOTAL UNITS'], as_index=False).count().sort_values(by='SALE PRICE', ascending=False)\n",
    "df = df[(df['TOTAL UNITS'] > 0)] "
   ]
  },
  {
   "cell_type": "markdown",
   "id": "0cfd7fbf",
   "metadata": {
    "papermill": {
     "duration": 0.021729,
     "end_time": "2022-10-09T19:59:49.045499",
     "exception": false,
     "start_time": "2022-10-09T19:59:49.023770",
     "status": "completed"
    },
    "tags": []
   },
   "source": [
    "## 1.3 Comparing Target Variable against Categorical Features"
   ]
  },
  {
   "cell_type": "code",
   "execution_count": 17,
   "id": "80153dc6",
   "metadata": {
    "execution": {
     "iopub.execute_input": "2022-10-09T19:59:49.090988Z",
     "iopub.status.busy": "2022-10-09T19:59:49.090362Z",
     "iopub.status.idle": "2022-10-09T19:59:49.130315Z",
     "shell.execute_reply": "2022-10-09T19:59:49.129183Z"
    },
    "papermill": {
     "duration": 0.06537,
     "end_time": "2022-10-09T19:59:49.132621",
     "exception": false,
     "start_time": "2022-10-09T19:59:49.067251",
     "status": "completed"
    },
    "tags": []
   },
   "outputs": [
    {
     "name": "stdout",
     "output_type": "stream",
     "text": [
      "    COUNT  RATIO  SALE PRICE\n",
      "4    2915  0.068 5981297.361\n",
      "2    4428  0.104 2616112.808\n",
      "2B    635  0.015 2558758.496\n",
      "2A   2075  0.049  984384.160\n",
      "1C    166  0.004  813752.307\n",
      "1B     30  0.001  749847.400\n",
      "2C    985  0.023  719411.146\n",
      "1   30967  0.724  604166.963\n",
      "1A    546  0.013  415253.216\n",
      "\n",
      "\n",
      "   COUNT  RATIO   SALE PRICE\n",
      "1    963  0.023 19246955.335\n",
      "4  11041  0.258   907913.974\n",
      "3  20153  0.471   868244.621\n",
      "2   5552  0.130   680124.052\n",
      "5   5038  0.118   527257.684\n",
      "\n",
      "\n",
      "   COUNT  RATIO  SALE PRICE\n",
      "4   2926  0.068 5988436.452\n",
      "2   8106  0.190 1959350.852\n",
      "1  31715  0.742  601751.219\n",
      "\n",
      "\n"
     ]
    }
   ],
   "source": [
    "######################################\n",
    "# 4. Hedef Değişkeni Kategorik Degiskenler ile Karsilastirma\n",
    "######################################\n",
    "def target_summary_with_cat(dataframe, target, categorical_col):\n",
    "    print(pd.DataFrame({\"COUNT\": df[categorical_col].value_counts(),\n",
    "                    \"RATIO\": df[categorical_col].value_counts() / len(df),\n",
    "                    target: df.groupby(categorical_col)[target].mean()}).sort_values([target],ascending = False), end=\"\\n\\n\\n\")\n",
    "\n",
    "\n",
    "for col in cat_cols:\n",
    "    target_summary_with_cat(df,\"SALE PRICE\",col)"
   ]
  },
  {
   "cell_type": "markdown",
   "id": "a1457f3d",
   "metadata": {
    "papermill": {
     "duration": 0.021541,
     "end_time": "2022-10-09T19:59:49.176362",
     "exception": false,
     "start_time": "2022-10-09T19:59:49.154821",
     "status": "completed"
    },
    "tags": []
   },
   "source": [
    "TAX CLASS 4, CLASS 2B and CLASS UNKNOWN has the highest SALE PRICE. \\\n",
    "TAX CLASS AT TIME OF SALE ---> 4 has the highest sale price, then 2, then 3 and 1 almost equal.\\\n",
    "In the 4th and 2nd quarter, sale price is higher than the other quarters.\\\n",
    "Sale Prices are in 4th, 3rd, and 1st  day of the week."
   ]
  },
  {
   "cell_type": "code",
   "execution_count": 18,
   "id": "723588cf",
   "metadata": {
    "execution": {
     "iopub.execute_input": "2022-10-09T19:59:49.222456Z",
     "iopub.status.busy": "2022-10-09T19:59:49.221779Z",
     "iopub.status.idle": "2022-10-09T19:59:49.229521Z",
     "shell.execute_reply": "2022-10-09T19:59:49.228324Z"
    },
    "papermill": {
     "duration": 0.033818,
     "end_time": "2022-10-09T19:59:49.231898",
     "exception": false,
     "start_time": "2022-10-09T19:59:49.198080",
     "status": "completed"
    },
    "tags": []
   },
   "outputs": [
    {
     "data": {
      "text/plain": [
       "['TAX CLASS AT PRESENT', 'BOROUGH', 'TAX CLASS AT TIME OF SALE']"
      ]
     },
     "execution_count": 18,
     "metadata": {},
     "output_type": "execute_result"
    }
   ],
   "source": [
    "cat_cols"
   ]
  },
  {
   "cell_type": "code",
   "execution_count": 19,
   "id": "cb54f9fd",
   "metadata": {
    "execution": {
     "iopub.execute_input": "2022-10-09T19:59:49.278518Z",
     "iopub.status.busy": "2022-10-09T19:59:49.277666Z",
     "iopub.status.idle": "2022-10-09T19:59:49.304861Z",
     "shell.execute_reply": "2022-10-09T19:59:49.303554Z"
    },
    "papermill": {
     "duration": 0.053832,
     "end_time": "2022-10-09T19:59:49.307840",
     "exception": false,
     "start_time": "2022-10-09T19:59:49.254008",
     "status": "completed"
    },
    "tags": []
   },
   "outputs": [
    {
     "name": "stdout",
     "output_type": "stream",
     "text": [
      "    COUNT  RATIO  TOTAL UNITS  SALE PRICE\n",
      "1   30967  0.724        1.686  604166.963\n",
      "2    4428  0.104       11.994 2616112.808\n",
      "4    2915  0.068        3.944 5981297.361\n",
      "2A   2075  0.049        4.733  984384.160\n",
      "2C    985  0.023        1.026  719411.146\n",
      "2B    635  0.015        8.315 2558758.496\n",
      "1A    546  0.013        1.000  415253.216\n",
      "1C    166  0.004        1.000  813752.307\n",
      "1B     30  0.001        1.767  749847.400\n",
      "\n",
      "\n"
     ]
    }
   ],
   "source": [
    "print(pd.DataFrame({\"COUNT\": df['TAX CLASS AT PRESENT'].value_counts(),\n",
    "                    \"RATIO\": df['TAX CLASS AT PRESENT'].value_counts() / len(df),\n",
    "                    \"TOTAL UNITS\": df.groupby('TAX CLASS AT PRESENT' )['TOTAL UNITS'].mean(),\n",
    "                    \"SALE PRICE\": df.groupby('TAX CLASS AT PRESENT' )['SALE PRICE'].mean()}).sort_values(['RATIO','SALE PRICE'],ascending = False), end=\"\\n\\n\\n\")"
   ]
  },
  {
   "cell_type": "code",
   "execution_count": 20,
   "id": "8a6e3778",
   "metadata": {
    "execution": {
     "iopub.execute_input": "2022-10-09T19:59:49.355478Z",
     "iopub.status.busy": "2022-10-09T19:59:49.354532Z",
     "iopub.status.idle": "2022-10-09T19:59:49.373396Z",
     "shell.execute_reply": "2022-10-09T19:59:49.371666Z"
    },
    "papermill": {
     "duration": 0.045104,
     "end_time": "2022-10-09T19:59:49.376052",
     "exception": false,
     "start_time": "2022-10-09T19:59:49.330948",
     "status": "completed"
    },
    "tags": []
   },
   "outputs": [
    {
     "name": "stdout",
     "output_type": "stream",
     "text": [
      "   COUNT  RATIO  TOTAL UNITS  SALE PRICE\n",
      "1  31715  0.742        1.675  601751.219\n",
      "2   8106  0.190        8.516 1959350.852\n",
      "4   2926  0.068        3.940 5988436.452\n",
      "\n",
      "\n"
     ]
    }
   ],
   "source": [
    "print(pd.DataFrame({\"COUNT\": df['TAX CLASS AT TIME OF SALE'].value_counts(),\n",
    "                    \"RATIO\": df['TAX CLASS AT TIME OF SALE'].value_counts() / len(df),\n",
    "                    \"TOTAL UNITS\": df.groupby('TAX CLASS AT TIME OF SALE' )['TOTAL UNITS'].mean(),\n",
    "                    \"SALE PRICE\": df.groupby('TAX CLASS AT TIME OF SALE' )['SALE PRICE'].mean()}).sort_values(['RATIO','SALE PRICE'],ascending = False), end=\"\\n\\n\\n\")"
   ]
  },
  {
   "cell_type": "markdown",
   "id": "2fd6a356",
   "metadata": {
    "papermill": {
     "duration": 0.021892,
     "end_time": "2022-10-09T19:59:49.421557",
     "exception": false,
     "start_time": "2022-10-09T19:59:49.399665",
     "status": "completed"
    },
    "tags": []
   },
   "source": [
    "## 1.4 Analysis of Categorics with High Cardinality"
   ]
  },
  {
   "cell_type": "code",
   "execution_count": 21,
   "id": "57c8ce37",
   "metadata": {
    "execution": {
     "iopub.execute_input": "2022-10-09T19:59:49.468259Z",
     "iopub.status.busy": "2022-10-09T19:59:49.467793Z",
     "iopub.status.idle": "2022-10-09T19:59:49.473865Z",
     "shell.execute_reply": "2022-10-09T19:59:49.473050Z"
    },
    "papermill": {
     "duration": 0.032177,
     "end_time": "2022-10-09T19:59:49.475941",
     "exception": false,
     "start_time": "2022-10-09T19:59:49.443764",
     "status": "completed"
    },
    "tags": []
   },
   "outputs": [
    {
     "data": {
      "text/plain": [
       "['NEIGHBORHOOD',\n",
       " 'BUILDING CLASS CATEGORY',\n",
       " 'BUILDING CLASS AT PRESENT',\n",
       " 'ADDRESS',\n",
       " 'APARTMENT NUMBER',\n",
       " 'BUILDING CLASS AT TIME OF SALE',\n",
       " 'SALE DATE']"
      ]
     },
     "execution_count": 21,
     "metadata": {},
     "output_type": "execute_result"
    }
   ],
   "source": [
    "cat_but_car"
   ]
  },
  {
   "cell_type": "code",
   "execution_count": 22,
   "id": "39a66792",
   "metadata": {
    "execution": {
     "iopub.execute_input": "2022-10-09T19:59:49.522645Z",
     "iopub.status.busy": "2022-10-09T19:59:49.521828Z",
     "iopub.status.idle": "2022-10-09T19:59:49.529368Z",
     "shell.execute_reply": "2022-10-09T19:59:49.528220Z"
    },
    "papermill": {
     "duration": 0.033708,
     "end_time": "2022-10-09T19:59:49.531892",
     "exception": false,
     "start_time": "2022-10-09T19:59:49.498184",
     "status": "completed"
    },
    "tags": []
   },
   "outputs": [],
   "source": [
    "#df.loc[~df['BUILDING CLASS AT TIME OF SALE'].str.contains('R4|A1|A5|B2|B1|C0|B3'), 'BUILDING CLASS AT TIME OF SALE'] = 'Other Class'\n",
    "df['BUILDING CLASS AT TIME OF SALE'] = df['BUILDING CLASS AT TIME OF SALE'].astype('object')"
   ]
  },
  {
   "cell_type": "code",
   "execution_count": 23,
   "id": "1138b23f",
   "metadata": {
    "execution": {
     "iopub.execute_input": "2022-10-09T19:59:49.579764Z",
     "iopub.status.busy": "2022-10-09T19:59:49.578998Z",
     "iopub.status.idle": "2022-10-09T19:59:49.597385Z",
     "shell.execute_reply": "2022-10-09T19:59:49.596415Z"
    },
    "papermill": {
     "duration": 0.044948,
     "end_time": "2022-10-09T19:59:49.599688",
     "exception": false,
     "start_time": "2022-10-09T19:59:49.554740",
     "status": "completed"
    },
    "tags": []
   },
   "outputs": [],
   "source": [
    "df['BUILDING CLASS CATEGORY'].value_counts()\n",
    "top = df['BUILDING CLASS CATEGORY'].value_counts().head(7).index.tolist()\n",
    "df.loc[~df['BUILDING CLASS CATEGORY'].isin(top), 'BUILDING CLASS CATEGORY'] = '00 OTHER'\n",
    "df['BUILDING CLASS CATEGORY'] = df['BUILDING CLASS CATEGORY'].astype('object')"
   ]
  },
  {
   "cell_type": "code",
   "execution_count": 24,
   "id": "cc829a26",
   "metadata": {
    "execution": {
     "iopub.execute_input": "2022-10-09T19:59:49.647141Z",
     "iopub.status.busy": "2022-10-09T19:59:49.646663Z",
     "iopub.status.idle": "2022-10-09T19:59:49.672039Z",
     "shell.execute_reply": "2022-10-09T19:59:49.670447Z"
    },
    "papermill": {
     "duration": 0.051679,
     "end_time": "2022-10-09T19:59:49.674508",
     "exception": false,
     "start_time": "2022-10-09T19:59:49.622829",
     "status": "completed"
    },
    "tags": []
   },
   "outputs": [
    {
     "name": "stdout",
     "output_type": "stream",
     "text": [
      "                                             COUNT  RATIO  SALE PRICE\n",
      "01 ONE FAMILY DWELLINGS                      14336  0.335  590551.505\n",
      "02 TWO FAMILY DWELLINGS                      12966  0.303  607927.001\n",
      "00 OTHER                                      4401  0.103 5418428.028\n",
      "03 THREE FAMILY DWELLINGS                     3638  0.085  642707.913\n",
      "13 CONDOS - ELEVATOR APARTMENTS               3046  0.071  952659.713\n",
      "07 RENTALS - WALKUP APARTMENTS                2734  0.064 2194379.181\n",
      "15 CONDOS - 2-10 UNIT RESIDENTIAL              914  0.021  758158.264\n",
      "04 TAX CLASS 1 CONDOS                          712  0.017  508161.712\n",
      "\n",
      "\n"
     ]
    }
   ],
   "source": [
    "print(pd.DataFrame({\"COUNT\": df['BUILDING CLASS CATEGORY'].value_counts(),\n",
    "                    \"RATIO\": df['BUILDING CLASS CATEGORY'].value_counts() / len(df),\n",
    "                    \"SALE PRICE\": df.groupby('BUILDING CLASS CATEGORY' )['SALE PRICE'].mean()}).sort_values(['RATIO','SALE PRICE'],ascending = False), end=\"\\n\\n\\n\")"
   ]
  },
  {
   "cell_type": "code",
   "execution_count": 25,
   "id": "d589b4ac",
   "metadata": {
    "execution": {
     "iopub.execute_input": "2022-10-09T19:59:49.721648Z",
     "iopub.status.busy": "2022-10-09T19:59:49.720904Z",
     "iopub.status.idle": "2022-10-09T19:59:49.729431Z",
     "shell.execute_reply": "2022-10-09T19:59:49.728531Z"
    },
    "papermill": {
     "duration": 0.034712,
     "end_time": "2022-10-09T19:59:49.731632",
     "exception": false,
     "start_time": "2022-10-09T19:59:49.696920",
     "status": "completed"
    },
    "tags": []
   },
   "outputs": [],
   "source": [
    "df['TAX CLASS AT TIME OF SALE'] = df['TAX CLASS AT TIME OF SALE'].astype(object)"
   ]
  },
  {
   "cell_type": "code",
   "execution_count": 26,
   "id": "1bfa6b24",
   "metadata": {
    "execution": {
     "iopub.execute_input": "2022-10-09T19:59:49.778589Z",
     "iopub.status.busy": "2022-10-09T19:59:49.777828Z",
     "iopub.status.idle": "2022-10-09T19:59:49.795454Z",
     "shell.execute_reply": "2022-10-09T19:59:49.794461Z"
    },
    "papermill": {
     "duration": 0.043768,
     "end_time": "2022-10-09T19:59:49.797761",
     "exception": false,
     "start_time": "2022-10-09T19:59:49.753993",
     "status": "completed"
    },
    "tags": []
   },
   "outputs": [],
   "source": [
    "df['NEIGHBORHOOD'].value_counts()\n",
    "top = df['NEIGHBORHOOD'].value_counts().head(5).index.tolist()\n",
    "df.loc[~df['NEIGHBORHOOD'].isin(top), 'NEIGHBORHOOD'] = 'OTHER NB'\n",
    "df['NEIGHBORHOOD'] = df['NEIGHBORHOOD'].astype('object')"
   ]
  },
  {
   "cell_type": "code",
   "execution_count": 27,
   "id": "98adf094",
   "metadata": {
    "execution": {
     "iopub.execute_input": "2022-10-09T19:59:49.845235Z",
     "iopub.status.busy": "2022-10-09T19:59:49.844754Z",
     "iopub.status.idle": "2022-10-09T19:59:49.863513Z",
     "shell.execute_reply": "2022-10-09T19:59:49.862119Z"
    },
    "papermill": {
     "duration": 0.045661,
     "end_time": "2022-10-09T19:59:49.865912",
     "exception": false,
     "start_time": "2022-10-09T19:59:49.820251",
     "status": "completed"
    },
    "tags": []
   },
   "outputs": [],
   "source": [
    "df['BUILDING CLASS AT PRESENT'].value_counts()\n",
    "top = df['BUILDING CLASS AT PRESENT'].value_counts().head(10).index.tolist()\n",
    "df.loc[~df['BUILDING CLASS AT PRESENT'].isin(top), 'BUILDING CLASS AT PRESENT'] = 'OTHER NB'\n",
    "df['BUILDING CLASS AT PRESENT'] = df['BUILDING CLASS AT PRESENT'].astype('object')"
   ]
  },
  {
   "cell_type": "code",
   "execution_count": 28,
   "id": "c71ce277",
   "metadata": {
    "execution": {
     "iopub.execute_input": "2022-10-09T19:59:49.912969Z",
     "iopub.status.busy": "2022-10-09T19:59:49.912427Z",
     "iopub.status.idle": "2022-10-09T19:59:49.939487Z",
     "shell.execute_reply": "2022-10-09T19:59:49.938218Z"
    },
    "papermill": {
     "duration": 0.053827,
     "end_time": "2022-10-09T19:59:49.942149",
     "exception": false,
     "start_time": "2022-10-09T19:59:49.888322",
     "status": "completed"
    },
    "tags": []
   },
   "outputs": [],
   "source": [
    "# Too high cardinality. Not meaninful for the analysis.\n",
    "df.drop('ZIP CODE', inplace = True, axis =1 )\n",
    "#df.drop('BUILDING CLASS AT PRESENT', inplace = True, axis =1 )\n",
    "df.drop('BUILDING CLASS AT TIME OF SALE', inplace = True, axis =1 )\n",
    "#df.drop('NEIGHBORHOOD',axis =1, inplace = True)"
   ]
  },
  {
   "cell_type": "code",
   "execution_count": 29,
   "id": "fd86a8da",
   "metadata": {
    "execution": {
     "iopub.execute_input": "2022-10-09T19:59:49.988556Z",
     "iopub.status.busy": "2022-10-09T19:59:49.988104Z",
     "iopub.status.idle": "2022-10-09T19:59:50.094736Z",
     "shell.execute_reply": "2022-10-09T19:59:50.093353Z"
    },
    "papermill": {
     "duration": 0.132318,
     "end_time": "2022-10-09T19:59:50.097127",
     "exception": false,
     "start_time": "2022-10-09T19:59:49.964809",
     "status": "completed"
    },
    "tags": []
   },
   "outputs": [
    {
     "name": "stdout",
     "output_type": "stream",
     "text": [
      "Observations: 42747\n",
      "Variables: 18\n",
      "cat_cols: 6\n",
      "num_cols: 9\n",
      "cat_but_car: 3\n",
      "num_but_cat: 1\n"
     ]
    },
    {
     "data": {
      "text/html": [
       "<div>\n",
       "<style scoped>\n",
       "    .dataframe tbody tr th:only-of-type {\n",
       "        vertical-align: middle;\n",
       "    }\n",
       "\n",
       "    .dataframe tbody tr th {\n",
       "        vertical-align: top;\n",
       "    }\n",
       "\n",
       "    .dataframe thead th {\n",
       "        text-align: right;\n",
       "    }\n",
       "</style>\n",
       "<table border=\"1\" class=\"dataframe\">\n",
       "  <thead>\n",
       "    <tr style=\"text-align: right;\">\n",
       "      <th></th>\n",
       "      <th>BLOCK</th>\n",
       "      <th>LOT</th>\n",
       "      <th>RESIDENTIAL UNITS</th>\n",
       "      <th>COMMERCIAL UNITS</th>\n",
       "      <th>TOTAL UNITS</th>\n",
       "      <th>LAND SQUARE FEET</th>\n",
       "      <th>GROSS SQUARE FEET</th>\n",
       "      <th>YEAR BUILT</th>\n",
       "      <th>SALE PRICE</th>\n",
       "    </tr>\n",
       "  </thead>\n",
       "  <tbody>\n",
       "    <tr>\n",
       "      <th>BLOCK</th>\n",
       "      <td>1.000</td>\n",
       "      <td>-0.160</td>\n",
       "      <td>-0.046</td>\n",
       "      <td>-0.004</td>\n",
       "      <td>-0.041</td>\n",
       "      <td>0.002</td>\n",
       "      <td>-0.048</td>\n",
       "      <td>0.082</td>\n",
       "      <td>-0.052</td>\n",
       "    </tr>\n",
       "    <tr>\n",
       "      <th>LOT</th>\n",
       "      <td>-0.160</td>\n",
       "      <td>1.000</td>\n",
       "      <td>-0.038</td>\n",
       "      <td>-0.009</td>\n",
       "      <td>-0.035</td>\n",
       "      <td>-0.040</td>\n",
       "      <td>-0.046</td>\n",
       "      <td>-0.484</td>\n",
       "      <td>-0.016</td>\n",
       "    </tr>\n",
       "    <tr>\n",
       "      <th>RESIDENTIAL UNITS</th>\n",
       "      <td>-0.046</td>\n",
       "      <td>-0.038</td>\n",
       "      <td>1.000</td>\n",
       "      <td>0.013</td>\n",
       "      <td>0.847</td>\n",
       "      <td>0.469</td>\n",
       "      <td>0.630</td>\n",
       "      <td>0.018</td>\n",
       "      <td>0.126</td>\n",
       "    </tr>\n",
       "    <tr>\n",
       "      <th>COMMERCIAL UNITS</th>\n",
       "      <td>-0.004</td>\n",
       "      <td>-0.009</td>\n",
       "      <td>0.013</td>\n",
       "      <td>1.000</td>\n",
       "      <td>0.542</td>\n",
       "      <td>0.055</td>\n",
       "      <td>0.063</td>\n",
       "      <td>0.004</td>\n",
       "      <td>0.046</td>\n",
       "    </tr>\n",
       "    <tr>\n",
       "      <th>TOTAL UNITS</th>\n",
       "      <td>-0.041</td>\n",
       "      <td>-0.035</td>\n",
       "      <td>0.847</td>\n",
       "      <td>0.542</td>\n",
       "      <td>1.000</td>\n",
       "      <td>0.423</td>\n",
       "      <td>0.563</td>\n",
       "      <td>0.016</td>\n",
       "      <td>0.130</td>\n",
       "    </tr>\n",
       "    <tr>\n",
       "      <th>LAND SQUARE FEET</th>\n",
       "      <td>0.002</td>\n",
       "      <td>-0.040</td>\n",
       "      <td>0.469</td>\n",
       "      <td>0.055</td>\n",
       "      <td>0.423</td>\n",
       "      <td>1.000</td>\n",
       "      <td>0.643</td>\n",
       "      <td>0.024</td>\n",
       "      <td>0.043</td>\n",
       "    </tr>\n",
       "    <tr>\n",
       "      <th>GROSS SQUARE FEET</th>\n",
       "      <td>-0.048</td>\n",
       "      <td>-0.046</td>\n",
       "      <td>0.630</td>\n",
       "      <td>0.063</td>\n",
       "      <td>0.563</td>\n",
       "      <td>0.643</td>\n",
       "      <td>1.000</td>\n",
       "      <td>0.025</td>\n",
       "      <td>0.466</td>\n",
       "    </tr>\n",
       "    <tr>\n",
       "      <th>YEAR BUILT</th>\n",
       "      <td>0.082</td>\n",
       "      <td>-0.484</td>\n",
       "      <td>0.018</td>\n",
       "      <td>0.004</td>\n",
       "      <td>0.016</td>\n",
       "      <td>0.024</td>\n",
       "      <td>0.025</td>\n",
       "      <td>1.000</td>\n",
       "      <td>0.011</td>\n",
       "    </tr>\n",
       "    <tr>\n",
       "      <th>SALE PRICE</th>\n",
       "      <td>-0.052</td>\n",
       "      <td>-0.016</td>\n",
       "      <td>0.126</td>\n",
       "      <td>0.046</td>\n",
       "      <td>0.130</td>\n",
       "      <td>0.043</td>\n",
       "      <td>0.466</td>\n",
       "      <td>0.011</td>\n",
       "      <td>1.000</td>\n",
       "    </tr>\n",
       "  </tbody>\n",
       "</table>\n",
       "</div>"
      ],
      "text/plain": [
       "                   BLOCK    LOT  RESIDENTIAL UNITS  COMMERCIAL UNITS  \\\n",
       "BLOCK              1.000 -0.160             -0.046            -0.004   \n",
       "LOT               -0.160  1.000             -0.038            -0.009   \n",
       "RESIDENTIAL UNITS -0.046 -0.038              1.000             0.013   \n",
       "COMMERCIAL UNITS  -0.004 -0.009              0.013             1.000   \n",
       "TOTAL UNITS       -0.041 -0.035              0.847             0.542   \n",
       "LAND SQUARE FEET   0.002 -0.040              0.469             0.055   \n",
       "GROSS SQUARE FEET -0.048 -0.046              0.630             0.063   \n",
       "YEAR BUILT         0.082 -0.484              0.018             0.004   \n",
       "SALE PRICE        -0.052 -0.016              0.126             0.046   \n",
       "\n",
       "                   TOTAL UNITS  LAND SQUARE FEET  GROSS SQUARE FEET  \\\n",
       "BLOCK                   -0.041             0.002             -0.048   \n",
       "LOT                     -0.035            -0.040             -0.046   \n",
       "RESIDENTIAL UNITS        0.847             0.469              0.630   \n",
       "COMMERCIAL UNITS         0.542             0.055              0.063   \n",
       "TOTAL UNITS              1.000             0.423              0.563   \n",
       "LAND SQUARE FEET         0.423             1.000              0.643   \n",
       "GROSS SQUARE FEET        0.563             0.643              1.000   \n",
       "YEAR BUILT               0.016             0.024              0.025   \n",
       "SALE PRICE               0.130             0.043              0.466   \n",
       "\n",
       "                   YEAR BUILT  SALE PRICE  \n",
       "BLOCK                   0.082      -0.052  \n",
       "LOT                    -0.484      -0.016  \n",
       "RESIDENTIAL UNITS       0.018       0.126  \n",
       "COMMERCIAL UNITS        0.004       0.046  \n",
       "TOTAL UNITS             0.016       0.130  \n",
       "LAND SQUARE FEET        0.024       0.043  \n",
       "GROSS SQUARE FEET       0.025       0.466  \n",
       "YEAR BUILT              1.000       0.011  \n",
       "SALE PRICE              0.011       1.000  "
      ]
     },
     "execution_count": 29,
     "metadata": {},
     "output_type": "execute_result"
    }
   ],
   "source": [
    "######################################\n",
    "# 5. Korelasyon Analizi (Analysis of Correlation)\n",
    "######################################\n",
    "cat_cols, cat_but_car, num_cols, num_but_cat = grab_col_names(df)\n",
    "\n",
    "corr = df[num_cols].corr()\n",
    "corr"
   ]
  },
  {
   "cell_type": "markdown",
   "id": "cef40e8f",
   "metadata": {
    "papermill": {
     "duration": 0.024528,
     "end_time": "2022-10-09T19:59:50.144505",
     "exception": false,
     "start_time": "2022-10-09T19:59:50.119977",
     "status": "completed"
    },
    "tags": []
   },
   "source": [
    "****Here we see that, the GROSS SQUARE FLEET feature is highly corrolated with the TARGET VARIABLE (SALE PRICE).****"
   ]
  },
  {
   "cell_type": "code",
   "execution_count": 30,
   "id": "d6a6e754",
   "metadata": {
    "execution": {
     "iopub.execute_input": "2022-10-09T19:59:50.191408Z",
     "iopub.status.busy": "2022-10-09T19:59:50.190870Z",
     "iopub.status.idle": "2022-10-09T19:59:50.222410Z",
     "shell.execute_reply": "2022-10-09T19:59:50.221139Z"
    },
    "papermill": {
     "duration": 0.058654,
     "end_time": "2022-10-09T19:59:50.225733",
     "exception": false,
     "start_time": "2022-10-09T19:59:50.167079",
     "status": "completed"
    },
    "tags": []
   },
   "outputs": [
    {
     "name": "stderr",
     "output_type": "stream",
     "text": [
      "/opt/conda/lib/python3.7/site-packages/ipykernel_launcher.py:4: DeprecationWarning: `np.bool` is a deprecated alias for the builtin `bool`. To silence this warning, use `bool` by itself. Doing this will not modify any behavior and is safe. If you specifically wanted the numpy scalar type, use `np.bool_` here.\n",
      "Deprecated in NumPy 1.20; for more details and guidance: https://numpy.org/devdocs/release/1.20.0-notes.html#deprecations\n",
      "  after removing the cwd from sys.path.\n"
     ]
    },
    {
     "data": {
      "text/plain": [
       "['TOTAL UNITS']"
      ]
     },
     "execution_count": 30,
     "metadata": {},
     "output_type": "execute_result"
    }
   ],
   "source": [
    "def high_correlated_cols(dataframe, plot=False, corr_th=0.70):\n",
    "    corr = dataframe.corr()\n",
    "    cor_matrix = corr.abs()\n",
    "    upper_triangle_matrix = cor_matrix.where(np.triu(np.ones(cor_matrix.shape), k=1).astype(np.bool))\n",
    "    drop_list = [col for col in upper_triangle_matrix.columns if any(upper_triangle_matrix[col] > corr_th)]\n",
    "    if plot:\n",
    "        import seaborn as sns\n",
    "        import matplotlib.pyplot as plt\n",
    "        sns.set(rc={'figure.figsize': (15, 15)})\n",
    "        sns.heatmap(corr, cmap=\"RdBu\")\n",
    "        plt.show()\n",
    "    return drop_list\n",
    "\n",
    "\n",
    "high_correlated_cols(df, plot=False)"
   ]
  },
  {
   "cell_type": "code",
   "execution_count": 31,
   "id": "68f9fb33",
   "metadata": {
    "execution": {
     "iopub.execute_input": "2022-10-09T19:59:50.274255Z",
     "iopub.status.busy": "2022-10-09T19:59:50.273783Z",
     "iopub.status.idle": "2022-10-09T19:59:50.313661Z",
     "shell.execute_reply": "2022-10-09T19:59:50.312137Z"
    },
    "papermill": {
     "duration": 0.066906,
     "end_time": "2022-10-09T19:59:50.316239",
     "exception": false,
     "start_time": "2022-10-09T19:59:50.249333",
     "status": "completed"
    },
    "tags": []
   },
   "outputs": [
    {
     "name": "stdout",
     "output_type": "stream",
     "text": [
      "                  n_miss  ratio\n",
      "APARTMENT NUMBER   36040 84.310\n"
     ]
    }
   ],
   "source": [
    "######################################\n",
    "# Eksik Değer Analizi\n",
    "######################################\n",
    "\n",
    "def missing_values_table(dataframe, na_name=False):\n",
    "    na_columns = [col for col in dataframe.columns if dataframe[col].isnull().sum() > 0]\n",
    "    n_miss = dataframe[na_columns].isnull().sum().sort_values(ascending=False)\n",
    "    ratio = (dataframe[na_columns].isnull().sum() / dataframe.shape[0] * 100).sort_values(ascending=False)\n",
    "    missing_df = pd.concat([n_miss, np.round(ratio, 2)], axis=1, keys=['n_miss', 'ratio'])\n",
    "    \n",
    "    print(missing_df, end=\"\\n\")\n",
    "    \n",
    "    if na_name:\n",
    "        return na_columns\n",
    "\n",
    "missing_values_table(df)"
   ]
  },
  {
   "cell_type": "code",
   "execution_count": 32,
   "id": "f3ec04e8",
   "metadata": {
    "execution": {
     "iopub.execute_input": "2022-10-09T19:59:50.364863Z",
     "iopub.status.busy": "2022-10-09T19:59:50.364421Z",
     "iopub.status.idle": "2022-10-09T19:59:50.454629Z",
     "shell.execute_reply": "2022-10-09T19:59:50.453405Z"
    },
    "papermill": {
     "duration": 0.118008,
     "end_time": "2022-10-09T19:59:50.457830",
     "exception": false,
     "start_time": "2022-10-09T19:59:50.339822",
     "status": "completed"
    },
    "tags": []
   },
   "outputs": [
    {
     "name": "stdout",
     "output_type": "stream",
     "text": [
      "NEIGHBORHOOD : 6\n",
      "                    COUNT  RATIO  TARGET_MEAN\n",
      "BEDFORD STUYVESANT   1335  0.031   834027.856\n",
      "BOROUGH PARK         1176  0.028   619330.617\n",
      "CANARSIE              753  0.018   315567.691\n",
      "EAST NEW YORK         894  0.021   401906.793\n",
      "FLUSHING-NORTH        797  0.019  1333232.785\n",
      "OTHER NB            37792  0.884  1296251.305\n",
      "\n",
      "\n",
      "BUILDING CLASS CATEGORY : 8\n",
      "                                             COUNT  RATIO  TARGET_MEAN\n",
      "00 OTHER                                      4401  0.103  5418428.028\n",
      "01 ONE FAMILY DWELLINGS                      14336  0.335   590551.505\n",
      "02 TWO FAMILY DWELLINGS                      12966  0.303   607927.001\n",
      "03 THREE FAMILY DWELLINGS                     3638  0.085   642707.913\n",
      "04 TAX CLASS 1 CONDOS                          712  0.017   508161.712\n",
      "07 RENTALS - WALKUP APARTMENTS                2734  0.064  2194379.181\n",
      "13 CONDOS - ELEVATOR APARTMENTS               3046  0.071   952659.713\n",
      "15 CONDOS - 2-10 UNIT RESIDENTIAL              914  0.021   758158.264\n",
      "\n",
      "\n",
      "TAX CLASS AT PRESENT : 9\n",
      "    COUNT  RATIO  TARGET_MEAN\n",
      "1   30967  0.724   604166.963\n",
      "1A    546  0.013   415253.216\n",
      "1B     30  0.001   749847.400\n",
      "1C    166  0.004   813752.307\n",
      "2    4428  0.104  2616112.808\n",
      "2A   2075  0.049   984384.160\n",
      "2B    635  0.015  2558758.496\n",
      "2C    985  0.023   719411.146\n",
      "4    2915  0.068  5981297.361\n",
      "\n",
      "\n",
      "BUILDING CLASS AT PRESENT : 11\n",
      "          COUNT  RATIO  TARGET_MEAN\n",
      "A1         5227  0.122   568014.355\n",
      "A2         2069  0.048   517619.185\n",
      "A5         4595  0.107   481445.552\n",
      "A9         1260  0.029   534823.726\n",
      "B1         4037  0.094   569071.837\n",
      "B2         3795  0.089   567797.373\n",
      "B3         3106  0.073   631862.483\n",
      "B9         1357  0.032   655780.134\n",
      "C0         3634  0.085   642974.240\n",
      "OTHER NB  10622  0.248  3108910.793\n",
      "R4         3045  0.071   952087.442\n",
      "\n",
      "\n",
      "TAX CLASS AT TIME OF SALE : 3\n",
      "   COUNT  RATIO  TARGET_MEAN\n",
      "1  31715  0.742   601751.219\n",
      "2   8106  0.190  1959350.852\n",
      "4   2926  0.068  5988436.452\n",
      "\n",
      "\n",
      "BOROUGH : 5\n",
      "   COUNT  RATIO  TARGET_MEAN\n",
      "1    963  0.023 19246955.335\n",
      "2   5552  0.130   680124.052\n",
      "3  20153  0.471   868244.621\n",
      "4  11041  0.258   907913.974\n",
      "5   5038  0.118   527257.684\n",
      "\n",
      "\n"
     ]
    }
   ],
   "source": [
    "######################################\n",
    "# Analyzing The Rare Values\n",
    "######################################\n",
    "\n",
    "# Kategorik kolonların dağılımının incelenmesi\n",
    "def rare_analyser(dataframe, target, cat_cols):\n",
    "    for col in cat_cols:\n",
    "        print(col, \":\", len(dataframe[col].value_counts()))\n",
    "        print(pd.DataFrame({\"COUNT\": dataframe[col].value_counts(),\n",
    "                            \"RATIO\": dataframe[col].value_counts() / len(dataframe),\n",
    "                            \"TARGET_MEAN\": dataframe.groupby(col)[target].mean()}), end=\"\\n\\n\\n\")\n",
    "\n",
    "rare_analyser(df, \"SALE PRICE\", cat_cols)"
   ]
  },
  {
   "cell_type": "markdown",
   "id": "a56721a0",
   "metadata": {
    "papermill": {
     "duration": 0.022623,
     "end_time": "2022-10-09T19:59:50.504458",
     "exception": false,
     "start_time": "2022-10-09T19:59:50.481835",
     "status": "completed"
    },
    "tags": []
   },
   "source": [
    "## 2. Data Preprocessing and Feature Engineering"
   ]
  },
  {
   "cell_type": "code",
   "execution_count": 33,
   "id": "c50d872f",
   "metadata": {
    "execution": {
     "iopub.execute_input": "2022-10-09T19:59:50.553489Z",
     "iopub.status.busy": "2022-10-09T19:59:50.552460Z",
     "iopub.status.idle": "2022-10-09T19:59:50.630329Z",
     "shell.execute_reply": "2022-10-09T19:59:50.629077Z"
    },
    "papermill": {
     "duration": 0.105488,
     "end_time": "2022-10-09T19:59:50.632968",
     "exception": false,
     "start_time": "2022-10-09T19:59:50.527480",
     "status": "completed"
    },
    "tags": []
   },
   "outputs": [
    {
     "name": "stdout",
     "output_type": "stream",
     "text": [
      "Observations: 42747\n",
      "Variables: 18\n",
      "cat_cols: 6\n",
      "num_cols: 9\n",
      "cat_but_car: 3\n",
      "num_but_cat: 1\n"
     ]
    }
   ],
   "source": [
    "cat_cols, cat_but_car, num_cols, num_but_cat = grab_col_names(df)\n"
   ]
  },
  {
   "cell_type": "code",
   "execution_count": 34,
   "id": "85cc7281",
   "metadata": {
    "execution": {
     "iopub.execute_input": "2022-10-09T19:59:50.681726Z",
     "iopub.status.busy": "2022-10-09T19:59:50.680953Z",
     "iopub.status.idle": "2022-10-09T19:59:50.774429Z",
     "shell.execute_reply": "2022-10-09T19:59:50.772858Z"
    },
    "papermill": {
     "duration": 0.120616,
     "end_time": "2022-10-09T19:59:50.776886",
     "exception": false,
     "start_time": "2022-10-09T19:59:50.656270",
     "status": "completed"
    },
    "tags": []
   },
   "outputs": [
    {
     "name": "stdout",
     "output_type": "stream",
     "text": [
      "BLOCK False\n",
      "LOT True\n",
      "RESIDENTIAL UNITS True\n",
      "COMMERCIAL UNITS True\n",
      "TOTAL UNITS True\n",
      "LAND SQUARE FEET True\n",
      "GROSS SQUARE FEET True\n",
      "YEAR BUILT True\n"
     ]
    }
   ],
   "source": [
    "def outlier_thresholds(dataframe, variable, low_quantile=0.10, up_quantile=0.90):\n",
    "    quantile_one = dataframe[variable].quantile(low_quantile)\n",
    "    quantile_three = dataframe[variable].quantile(up_quantile)\n",
    "    interquantile_range = quantile_three - quantile_one\n",
    "    up_limit = quantile_three + 1.5 * interquantile_range\n",
    "    low_limit = quantile_one - 1.5 * interquantile_range\n",
    "    return low_limit, up_limit\n",
    "\n",
    "# Aykırı değer kontrolü\n",
    "def check_outlier(dataframe, col_name):\n",
    "    low_limit, up_limit = outlier_thresholds(dataframe, col_name)\n",
    "    if dataframe[(dataframe[col_name] > up_limit) | (dataframe[col_name] < low_limit)].any(axis=None):\n",
    "        return True\n",
    "    else:\n",
    "        return False\n",
    "\n",
    "\n",
    "for col in num_cols:\n",
    "    if col != \"SALE PRICE\":\n",
    "      print(col, check_outlier(df, col))\n",
    "\n",
    "# Aykırı değerlerin baskılanması\n",
    "def replace_with_thresholds(dataframe, variable):\n",
    "    low_limit, up_limit = outlier_thresholds(dataframe, variable)\n",
    "    dataframe.loc[(dataframe[variable] < low_limit), variable] = low_limit\n",
    "    dataframe.loc[(dataframe[variable] > up_limit), variable] = up_limit\n",
    "\n",
    "for col in num_cols:\n",
    "    if col != \"SALE PRICE\":\n",
    "        replace_with_thresholds(df,col)\n"
   ]
  },
  {
   "cell_type": "code",
   "execution_count": 35,
   "id": "b0ac27d7",
   "metadata": {
    "execution": {
     "iopub.execute_input": "2022-10-09T19:59:50.825514Z",
     "iopub.status.busy": "2022-10-09T19:59:50.824663Z",
     "iopub.status.idle": "2022-10-09T19:59:50.853917Z",
     "shell.execute_reply": "2022-10-09T19:59:50.852806Z"
    },
    "papermill": {
     "duration": 0.056683,
     "end_time": "2022-10-09T19:59:50.856651",
     "exception": false,
     "start_time": "2022-10-09T19:59:50.799968",
     "status": "completed"
    },
    "tags": []
   },
   "outputs": [],
   "source": [
    "df = df[df['GROSS SQUARE FEET']>1]\n",
    "df = df[df['LAND SQUARE FEET']>1]\n",
    "df = df[df['SALE PRICE'] > 100000]\n"
   ]
  },
  {
   "cell_type": "code",
   "execution_count": 36,
   "id": "bd2a62e7",
   "metadata": {
    "execution": {
     "iopub.execute_input": "2022-10-09T19:59:50.904735Z",
     "iopub.status.busy": "2022-10-09T19:59:50.904308Z",
     "iopub.status.idle": "2022-10-09T19:59:50.942404Z",
     "shell.execute_reply": "2022-10-09T19:59:50.941331Z"
    },
    "papermill": {
     "duration": 0.065165,
     "end_time": "2022-10-09T19:59:50.945085",
     "exception": false,
     "start_time": "2022-10-09T19:59:50.879920",
     "status": "completed"
    },
    "tags": []
   },
   "outputs": [],
   "source": [
    "# Transforming the Datetime modules\n",
    "from datetime import date\n",
    "df['SALE DATE']=pd.to_datetime(df['SALE DATE'],dayfirst=True)\n",
    "# Dividing the sale date to quarter, month, week, day and hour.\n",
    "df['SALE YEAR']=df['SALE DATE'].dt.year\n",
    "df['SALE QUARTER']=df['SALE DATE'].dt.quarter\n",
    "df['SALE MONTH']=df['SALE DATE'].dt.month\n",
    "df['SALE DAY OF WEEK']=df['SALE DATE'].dt.dayofweek\n",
    "df['SALE DAY']=df['SALE DATE'].dt.day"
   ]
  },
  {
   "cell_type": "code",
   "execution_count": 37,
   "id": "5f7fd711",
   "metadata": {
    "execution": {
     "iopub.execute_input": "2022-10-09T19:59:50.994822Z",
     "iopub.status.busy": "2022-10-09T19:59:50.994015Z",
     "iopub.status.idle": "2022-10-09T19:59:51.009418Z",
     "shell.execute_reply": "2022-10-09T19:59:51.008259Z"
    },
    "papermill": {
     "duration": 0.042929,
     "end_time": "2022-10-09T19:59:51.012111",
     "exception": false,
     "start_time": "2022-10-09T19:59:50.969182",
     "status": "completed"
    },
    "tags": []
   },
   "outputs": [],
   "source": [
    "df['TOTAL UNITS'] = df['TOTAL UNITS'].astype(int)\n",
    "df = df[df['TOTAL UNITS'] > 0]"
   ]
  },
  {
   "cell_type": "code",
   "execution_count": 38,
   "id": "0af67f75",
   "metadata": {
    "execution": {
     "iopub.execute_input": "2022-10-09T19:59:51.061711Z",
     "iopub.status.busy": "2022-10-09T19:59:51.061248Z",
     "iopub.status.idle": "2022-10-09T19:59:51.066119Z",
     "shell.execute_reply": "2022-10-09T19:59:51.065060Z"
    },
    "papermill": {
     "duration": 0.032075,
     "end_time": "2022-10-09T19:59:51.068560",
     "exception": false,
     "start_time": "2022-10-09T19:59:51.036485",
     "status": "completed"
    },
    "tags": []
   },
   "outputs": [],
   "source": [
    "# Calculating the building age:\n",
    "#df['BUILDING_AGE_NEW']= (df['YEAR BUILT'] - df['SALE YEAR']).abs()"
   ]
  },
  {
   "cell_type": "code",
   "execution_count": 39,
   "id": "48f67ac2",
   "metadata": {
    "execution": {
     "iopub.execute_input": "2022-10-09T19:59:51.116843Z",
     "iopub.status.busy": "2022-10-09T19:59:51.115995Z",
     "iopub.status.idle": "2022-10-09T19:59:51.120791Z",
     "shell.execute_reply": "2022-10-09T19:59:51.119991Z"
    },
    "papermill": {
     "duration": 0.031513,
     "end_time": "2022-10-09T19:59:51.123053",
     "exception": false,
     "start_time": "2022-10-09T19:59:51.091540",
     "status": "completed"
    },
    "tags": []
   },
   "outputs": [],
   "source": [
    "# GROSS'U LAND SQUARE'E BOLDUM.\n",
    "#df['GROSS_LAND_DIFFERENCE_NEW'] = df['GROSS SQUARE FEET'] / df['LAND SQUARE FEET']"
   ]
  },
  {
   "cell_type": "code",
   "execution_count": 40,
   "id": "b06764c9",
   "metadata": {
    "execution": {
     "iopub.execute_input": "2022-10-09T19:59:51.171234Z",
     "iopub.status.busy": "2022-10-09T19:59:51.170761Z",
     "iopub.status.idle": "2022-10-09T19:59:51.175417Z",
     "shell.execute_reply": "2022-10-09T19:59:51.174387Z"
    },
    "papermill": {
     "duration": 0.031394,
     "end_time": "2022-10-09T19:59:51.177644",
     "exception": false,
     "start_time": "2022-10-09T19:59:51.146250",
     "status": "completed"
    },
    "tags": []
   },
   "outputs": [],
   "source": [
    "#df['CARPIM'] = df['BOROUGH']*df['TAX CLASS AT TIME OF SALE']*df['LAND SQUARE FEET']"
   ]
  },
  {
   "cell_type": "code",
   "execution_count": 41,
   "id": "6be2a007",
   "metadata": {
    "execution": {
     "iopub.execute_input": "2022-10-09T19:59:51.226176Z",
     "iopub.status.busy": "2022-10-09T19:59:51.225327Z",
     "iopub.status.idle": "2022-10-09T19:59:51.229781Z",
     "shell.execute_reply": "2022-10-09T19:59:51.228981Z"
    },
    "papermill": {
     "duration": 0.031407,
     "end_time": "2022-10-09T19:59:51.232125",
     "exception": false,
     "start_time": "2022-10-09T19:59:51.200718",
     "status": "completed"
    },
    "tags": []
   },
   "outputs": [],
   "source": [
    "#df['SQUARE_FEET_PER_UNIT'] = df['GROSS SQUARE FEET'] / df['TOTAL UNITS']"
   ]
  },
  {
   "cell_type": "code",
   "execution_count": 42,
   "id": "232b56ce",
   "metadata": {
    "execution": {
     "iopub.execute_input": "2022-10-09T19:59:51.280254Z",
     "iopub.status.busy": "2022-10-09T19:59:51.279769Z",
     "iopub.status.idle": "2022-10-09T19:59:51.292156Z",
     "shell.execute_reply": "2022-10-09T19:59:51.291284Z"
    },
    "papermill": {
     "duration": 0.039115,
     "end_time": "2022-10-09T19:59:51.294428",
     "exception": false,
     "start_time": "2022-10-09T19:59:51.255313",
     "status": "completed"
    },
    "tags": []
   },
   "outputs": [],
   "source": [
    "df['SALE YEAR'] = df['SALE YEAR'].astype('object')\n",
    "df['SALE QUARTER'] = df['SALE QUARTER'].astype('object')\n",
    "df['SALE MONTH'] = df['SALE MONTH'].astype('object')"
   ]
  },
  {
   "cell_type": "code",
   "execution_count": 43,
   "id": "fe0114a0",
   "metadata": {
    "execution": {
     "iopub.execute_input": "2022-10-09T19:59:51.343664Z",
     "iopub.status.busy": "2022-10-09T19:59:51.342645Z",
     "iopub.status.idle": "2022-10-09T19:59:51.370441Z",
     "shell.execute_reply": "2022-10-09T19:59:51.369211Z"
    },
    "papermill": {
     "duration": 0.055496,
     "end_time": "2022-10-09T19:59:51.373274",
     "exception": false,
     "start_time": "2022-10-09T19:59:51.317778",
     "status": "completed"
    },
    "tags": []
   },
   "outputs": [],
   "source": [
    "df.drop(['ADDRESS','SALE DATE', 'SALE QUARTER', 'SALE YEAR', 'APARTMENT NUMBER', 'SALE MONTH'],axis = 1 ,inplace = True)\n",
    "df.drop(['SALE DAY OF WEEK', 'SALE DAY'],axis=1, inplace = True)\n",
    "df.drop('BLOCK', axis=1, inplace =True)\n",
    "df.drop('LOT', axis=1, inplace =True)\n",
    "#df.drop('TAX CLASS AT TIME OF SALE', axis =1 , inplace= True)\n",
    "df.drop('TAX CLASS AT PRESENT', axis =1 , inplace= True)\n"
   ]
  },
  {
   "cell_type": "code",
   "execution_count": 44,
   "id": "8316388e",
   "metadata": {
    "execution": {
     "iopub.execute_input": "2022-10-09T19:59:51.421618Z",
     "iopub.status.busy": "2022-10-09T19:59:51.421167Z",
     "iopub.status.idle": "2022-10-09T19:59:51.436967Z",
     "shell.execute_reply": "2022-10-09T19:59:51.435853Z"
    },
    "papermill": {
     "duration": 0.042638,
     "end_time": "2022-10-09T19:59:51.439139",
     "exception": false,
     "start_time": "2022-10-09T19:59:51.396501",
     "status": "completed"
    },
    "tags": []
   },
   "outputs": [
    {
     "data": {
      "text/html": [
       "<div>\n",
       "<style scoped>\n",
       "    .dataframe tbody tr th:only-of-type {\n",
       "        vertical-align: middle;\n",
       "    }\n",
       "\n",
       "    .dataframe tbody tr th {\n",
       "        vertical-align: top;\n",
       "    }\n",
       "\n",
       "    .dataframe thead th {\n",
       "        text-align: right;\n",
       "    }\n",
       "</style>\n",
       "<table border=\"1\" class=\"dataframe\">\n",
       "  <thead>\n",
       "    <tr style=\"text-align: right;\">\n",
       "      <th></th>\n",
       "      <th>BOROUGH</th>\n",
       "      <th>NEIGHBORHOOD</th>\n",
       "      <th>BUILDING CLASS CATEGORY</th>\n",
       "      <th>BUILDING CLASS AT PRESENT</th>\n",
       "      <th>RESIDENTIAL UNITS</th>\n",
       "      <th>COMMERCIAL UNITS</th>\n",
       "      <th>TOTAL UNITS</th>\n",
       "      <th>LAND SQUARE FEET</th>\n",
       "      <th>GROSS SQUARE FEET</th>\n",
       "      <th>YEAR BUILT</th>\n",
       "      <th>TAX CLASS AT TIME OF SALE</th>\n",
       "      <th>SALE PRICE</th>\n",
       "    </tr>\n",
       "  </thead>\n",
       "  <tbody>\n",
       "    <tr>\n",
       "      <th>0</th>\n",
       "      <td>1</td>\n",
       "      <td>OTHER NB</td>\n",
       "      <td>07 RENTALS - WALKUP APARTMENTS</td>\n",
       "      <td>OTHER NB</td>\n",
       "      <td>5</td>\n",
       "      <td>0</td>\n",
       "      <td>5</td>\n",
       "      <td>1633</td>\n",
       "      <td>6440</td>\n",
       "      <td>1900.000</td>\n",
       "      <td>2</td>\n",
       "      <td>6625000</td>\n",
       "    </tr>\n",
       "    <tr>\n",
       "      <th>3</th>\n",
       "      <td>1</td>\n",
       "      <td>OTHER NB</td>\n",
       "      <td>07 RENTALS - WALKUP APARTMENTS</td>\n",
       "      <td>OTHER NB</td>\n",
       "      <td>6</td>\n",
       "      <td>0</td>\n",
       "      <td>6</td>\n",
       "      <td>2272</td>\n",
       "      <td>6794</td>\n",
       "      <td>1913.000</td>\n",
       "      <td>2</td>\n",
       "      <td>3936272</td>\n",
       "    </tr>\n",
       "    <tr>\n",
       "      <th>4</th>\n",
       "      <td>1</td>\n",
       "      <td>OTHER NB</td>\n",
       "      <td>07 RENTALS - WALKUP APARTMENTS</td>\n",
       "      <td>OTHER NB</td>\n",
       "      <td>6</td>\n",
       "      <td>0</td>\n",
       "      <td>6</td>\n",
       "      <td>2369</td>\n",
       "      <td>4615</td>\n",
       "      <td>1900.000</td>\n",
       "      <td>2</td>\n",
       "      <td>8000000</td>\n",
       "    </tr>\n",
       "    <tr>\n",
       "      <th>6</th>\n",
       "      <td>1</td>\n",
       "      <td>OTHER NB</td>\n",
       "      <td>07 RENTALS - WALKUP APARTMENTS</td>\n",
       "      <td>OTHER NB</td>\n",
       "      <td>6</td>\n",
       "      <td>0</td>\n",
       "      <td>6</td>\n",
       "      <td>1750</td>\n",
       "      <td>4226</td>\n",
       "      <td>1920.000</td>\n",
       "      <td>2</td>\n",
       "      <td>3192840</td>\n",
       "    </tr>\n",
       "    <tr>\n",
       "      <th>9</th>\n",
       "      <td>1</td>\n",
       "      <td>OTHER NB</td>\n",
       "      <td>00 OTHER</td>\n",
       "      <td>OTHER NB</td>\n",
       "      <td>6</td>\n",
       "      <td>0</td>\n",
       "      <td>6</td>\n",
       "      <td>4489</td>\n",
       "      <td>9840</td>\n",
       "      <td>1920.000</td>\n",
       "      <td>2</td>\n",
       "      <td>16232000</td>\n",
       "    </tr>\n",
       "  </tbody>\n",
       "</table>\n",
       "</div>"
      ],
      "text/plain": [
       "   BOROUGH NEIGHBORHOOD                      BUILDING CLASS CATEGORY  \\\n",
       "0        1     OTHER NB  07 RENTALS - WALKUP APARTMENTS                \n",
       "3        1     OTHER NB  07 RENTALS - WALKUP APARTMENTS                \n",
       "4        1     OTHER NB  07 RENTALS - WALKUP APARTMENTS                \n",
       "6        1     OTHER NB  07 RENTALS - WALKUP APARTMENTS                \n",
       "9        1     OTHER NB                                     00 OTHER   \n",
       "\n",
       "  BUILDING CLASS AT PRESENT  RESIDENTIAL UNITS  COMMERCIAL UNITS  TOTAL UNITS  \\\n",
       "0                  OTHER NB                  5                 0            5   \n",
       "3                  OTHER NB                  6                 0            6   \n",
       "4                  OTHER NB                  6                 0            6   \n",
       "6                  OTHER NB                  6                 0            6   \n",
       "9                  OTHER NB                  6                 0            6   \n",
       "\n",
       "   LAND SQUARE FEET  GROSS SQUARE FEET  YEAR BUILT TAX CLASS AT TIME OF SALE  \\\n",
       "0              1633               6440    1900.000                         2   \n",
       "3              2272               6794    1913.000                         2   \n",
       "4              2369               4615    1900.000                         2   \n",
       "6              1750               4226    1920.000                         2   \n",
       "9              4489               9840    1920.000                         2   \n",
       "\n",
       "   SALE PRICE  \n",
       "0     6625000  \n",
       "3     3936272  \n",
       "4     8000000  \n",
       "6     3192840  \n",
       "9    16232000  "
      ]
     },
     "execution_count": 44,
     "metadata": {},
     "output_type": "execute_result"
    }
   ],
   "source": [
    "df.head()"
   ]
  },
  {
   "cell_type": "code",
   "execution_count": 45,
   "id": "8a4ea982",
   "metadata": {
    "execution": {
     "iopub.execute_input": "2022-10-09T19:59:51.487776Z",
     "iopub.status.busy": "2022-10-09T19:59:51.487298Z",
     "iopub.status.idle": "2022-10-09T19:59:51.509334Z",
     "shell.execute_reply": "2022-10-09T19:59:51.507963Z"
    },
    "papermill": {
     "duration": 0.049439,
     "end_time": "2022-10-09T19:59:51.512043",
     "exception": false,
     "start_time": "2022-10-09T19:59:51.462604",
     "status": "completed"
    },
    "tags": []
   },
   "outputs": [
    {
     "name": "stdout",
     "output_type": "stream",
     "text": [
      "<class 'pandas.core.frame.DataFrame'>\n",
      "Int64Index: 27817 entries, 0 to 84546\n",
      "Data columns (total 12 columns):\n",
      " #   Column                     Non-Null Count  Dtype  \n",
      "---  ------                     --------------  -----  \n",
      " 0   BOROUGH                    27817 non-null  int64  \n",
      " 1   NEIGHBORHOOD               27817 non-null  object \n",
      " 2   BUILDING CLASS CATEGORY    27817 non-null  object \n",
      " 3   BUILDING CLASS AT PRESENT  27817 non-null  object \n",
      " 4   RESIDENTIAL UNITS          27817 non-null  int64  \n",
      " 5   COMMERCIAL UNITS           27817 non-null  int64  \n",
      " 6   TOTAL UNITS                27817 non-null  int64  \n",
      " 7   LAND SQUARE FEET           27817 non-null  int64  \n",
      " 8   GROSS SQUARE FEET          27817 non-null  int64  \n",
      " 9   YEAR BUILT                 27817 non-null  float64\n",
      " 10  TAX CLASS AT TIME OF SALE  27817 non-null  object \n",
      " 11  SALE PRICE                 27817 non-null  int64  \n",
      "dtypes: float64(1), int64(7), object(4)\n",
      "memory usage: 2.8+ MB\n"
     ]
    }
   ],
   "source": [
    "df.info()"
   ]
  },
  {
   "cell_type": "code",
   "execution_count": 46,
   "id": "7bb402c0",
   "metadata": {
    "execution": {
     "iopub.execute_input": "2022-10-09T19:59:51.562465Z",
     "iopub.status.busy": "2022-10-09T19:59:51.561584Z",
     "iopub.status.idle": "2022-10-09T19:59:51.625499Z",
     "shell.execute_reply": "2022-10-09T19:59:51.623984Z"
    },
    "papermill": {
     "duration": 0.091765,
     "end_time": "2022-10-09T19:59:51.627995",
     "exception": false,
     "start_time": "2022-10-09T19:59:51.536230",
     "status": "completed"
    },
    "tags": []
   },
   "outputs": [
    {
     "name": "stdout",
     "output_type": "stream",
     "text": [
      "Observations: 27817\n",
      "Variables: 12\n",
      "cat_cols: 8\n",
      "num_cols: 4\n",
      "cat_but_car: 0\n",
      "num_but_cat: 4\n"
     ]
    }
   ],
   "source": [
    "##################\n",
    "# GÖREV 4 : Label Encoding & One-Hot Encoding işlemlerinin uygulanması\n",
    "##################\n",
    "from sklearn import preprocessing\n",
    "cat_cols, cat_but_car, num_cols, num_but_cat = grab_col_names(df)\n",
    "\n",
    "def label_encoder(dataframe, binary_col):\n",
    "    labelencoder = preprocessing.LabelEncoder()\n",
    "    dataframe[binary_col] = labelencoder.fit_transform(dataframe[binary_col])\n",
    "    return dataframe\n",
    "\n",
    "binary_cols = [col for col in df.columns if df[col].dtypes == \"O\"\n",
    "               and len(df[col].unique()) == 2]\n",
    "\n",
    "for col in binary_cols:\n",
    "   label_encoder(df, col)\n",
    "\n",
    "#cat_cols, cat_but_car, num_cols, num_but_cat = grab_col_names(df)\n",
    "\n",
    "def one_hot_encoder(dataframe, cat_cols, drop_first=False):\n",
    "    dataframe = pd.get_dummies(dataframe, columns=cat_cols, drop_first=drop_first)\n",
    "    return dataframe\n",
    "\n",
    "cat_cols = [col for col in cat_cols if col != 'RESIDENTIAL UNITS' and col != 'COMMERCIAL UNITS' and col != 'TOTAL UNITS']\n",
    "df = one_hot_encoder(df, cat_cols, drop_first=True)"
   ]
  },
  {
   "cell_type": "code",
   "execution_count": 47,
   "id": "ec305cc0",
   "metadata": {
    "execution": {
     "iopub.execute_input": "2022-10-09T19:59:51.678111Z",
     "iopub.status.busy": "2022-10-09T19:59:51.677183Z",
     "iopub.status.idle": "2022-10-09T19:59:51.770177Z",
     "shell.execute_reply": "2022-10-09T19:59:51.769176Z"
    },
    "papermill": {
     "duration": 0.12058,
     "end_time": "2022-10-09T19:59:51.772648",
     "exception": false,
     "start_time": "2022-10-09T19:59:51.652068",
     "status": "completed"
    },
    "tags": []
   },
   "outputs": [
    {
     "data": {
      "text/plain": [
       "SALE PRICE                                                             1.000\n",
       "GROSS SQUARE FEET                                                      0.205\n",
       "LAND SQUARE FEET                                                       0.156\n",
       "TAX CLASS AT TIME OF SALE_4                                            0.145\n",
       "BUILDING CLASS AT PRESENT_OTHER NB                                     0.123\n",
       "TOTAL UNITS                                                            0.107\n",
       "TAX CLASS AT TIME OF SALE_2                                            0.061\n",
       "RESIDENTIAL UNITS                                                      0.030\n",
       "BUILDING CLASS CATEGORY_07 RENTALS - WALKUP APARTMENTS                 0.026\n",
       "NEIGHBORHOOD_OTHER NB                                                  0.010\n",
       "YEAR BUILT                                                             0.001\n",
       "NEIGHBORHOOD_BOROUGH PARK                                             -0.001\n",
       "NEIGHBORHOOD_FLUSHING-NORTH                                           -0.003\n",
       "BOROUGH_3                                                             -0.005\n",
       "NEIGHBORHOOD_CANARSIE                                                 -0.008\n",
       "BUILDING CLASS AT PRESENT_B9                                          -0.008\n",
       "NEIGHBORHOOD_EAST NEW YORK                                            -0.009\n",
       "BUILDING CLASS AT PRESENT_A9                                          -0.011\n",
       "BUILDING CLASS AT PRESENT_C0                                          -0.012\n",
       "BUILDING CLASS CATEGORY_03 THREE FAMILY DWELLINGS                     -0.012\n",
       "BOROUGH_2                                                             -0.014\n",
       "BUILDING CLASS AT PRESENT_B3                                          -0.016\n",
       "BUILDING CLASS AT PRESENT_B1                                          -0.017\n",
       "BUILDING CLASS AT PRESENT_A2                                          -0.018\n",
       "BUILDING CLASS AT PRESENT_B2                                          -0.021\n",
       "BUILDING CLASS AT PRESENT_A5                                          -0.027\n",
       "BOROUGH_5                                                             -0.031\n",
       "BOROUGH_4                                                             -0.035\n",
       "BUILDING CLASS CATEGORY_02 TWO FAMILY DWELLINGS                       -0.037\n",
       "BUILDING CLASS CATEGORY_01 ONE FAMILY DWELLINGS                       -0.053\n",
       "COMMERCIAL UNITS                                                         NaN\n",
       "Name: SALE PRICE, dtype: float64"
      ]
     },
     "execution_count": 47,
     "metadata": {},
     "output_type": "execute_result"
    }
   ],
   "source": [
    "df.corr()['SALE PRICE'].sort_values(ascending = False)"
   ]
  },
  {
   "cell_type": "code",
   "execution_count": 48,
   "id": "7ee49fd1",
   "metadata": {
    "execution": {
     "iopub.execute_input": "2022-10-09T19:59:51.822351Z",
     "iopub.status.busy": "2022-10-09T19:59:51.821607Z",
     "iopub.status.idle": "2022-10-09T19:59:51.832897Z",
     "shell.execute_reply": "2022-10-09T19:59:51.831752Z"
    },
    "papermill": {
     "duration": 0.038826,
     "end_time": "2022-10-09T19:59:51.835437",
     "exception": false,
     "start_time": "2022-10-09T19:59:51.796611",
     "status": "completed"
    },
    "tags": []
   },
   "outputs": [],
   "source": [
    "# Feature Scaling\n",
    "df['SALE PRICE']=np.log1p(df['SALE PRICE'])\n",
    "df['LAND SQUARE FEET']=np.log1p(df['LAND SQUARE FEET'])\n",
    "df['GROSS SQUARE FEET']=np.log1p(df['GROSS SQUARE FEET'])\n",
    "df['YEAR BUILT']=np.log1p(df['YEAR BUILT'])\n",
    "#df['SQUARE_FEET_PER_UNIT']=np.log1p(df['SQUARE_FEET_PER_UNIT'])"
   ]
  },
  {
   "cell_type": "code",
   "execution_count": 49,
   "id": "f91e44c2",
   "metadata": {
    "execution": {
     "iopub.execute_input": "2022-10-09T19:59:51.886450Z",
     "iopub.status.busy": "2022-10-09T19:59:51.886026Z",
     "iopub.status.idle": "2022-10-09T19:59:51.899037Z",
     "shell.execute_reply": "2022-10-09T19:59:51.898010Z"
    },
    "papermill": {
     "duration": 0.041791,
     "end_time": "2022-10-09T19:59:51.901412",
     "exception": false,
     "start_time": "2022-10-09T19:59:51.859621",
     "status": "completed"
    },
    "tags": []
   },
   "outputs": [],
   "source": [
    "##################################\n",
    "# MODELLEME\n",
    "##################################\n",
    "train_df = df[df['SALE PRICE'].notnull()]\n",
    "test_df = df[df['SALE PRICE'].isnull()]"
   ]
  },
  {
   "cell_type": "code",
   "execution_count": 50,
   "id": "d0d5d1e7",
   "metadata": {
    "execution": {
     "iopub.execute_input": "2022-10-09T19:59:51.951147Z",
     "iopub.status.busy": "2022-10-09T19:59:51.950659Z",
     "iopub.status.idle": "2022-10-09T19:59:51.957565Z",
     "shell.execute_reply": "2022-10-09T19:59:51.956604Z"
    },
    "papermill": {
     "duration": 0.034491,
     "end_time": "2022-10-09T19:59:51.959813",
     "exception": false,
     "start_time": "2022-10-09T19:59:51.925322",
     "status": "completed"
    },
    "tags": []
   },
   "outputs": [],
   "source": [
    "y = train_df['SALE PRICE']\n",
    "X = train_df.drop([\"SALE PRICE\"], axis=1)"
   ]
  },
  {
   "cell_type": "code",
   "execution_count": 51,
   "id": "a0b3f395",
   "metadata": {
    "execution": {
     "iopub.execute_input": "2022-10-09T19:59:52.010648Z",
     "iopub.status.busy": "2022-10-09T19:59:52.009752Z",
     "iopub.status.idle": "2022-10-09T19:59:52.017382Z",
     "shell.execute_reply": "2022-10-09T19:59:52.016214Z"
    },
    "papermill": {
     "duration": 0.035252,
     "end_time": "2022-10-09T19:59:52.019602",
     "exception": false,
     "start_time": "2022-10-09T19:59:51.984350",
     "status": "completed"
    },
    "tags": []
   },
   "outputs": [
    {
     "data": {
      "text/plain": [
       "(27817, 30)"
      ]
     },
     "execution_count": 51,
     "metadata": {},
     "output_type": "execute_result"
    }
   ],
   "source": [
    "X.shape"
   ]
  },
  {
   "cell_type": "code",
   "execution_count": 52,
   "id": "a29c50d6",
   "metadata": {
    "execution": {
     "iopub.execute_input": "2022-10-09T19:59:52.070391Z",
     "iopub.status.busy": "2022-10-09T19:59:52.068958Z",
     "iopub.status.idle": "2022-10-09T19:59:52.077818Z",
     "shell.execute_reply": "2022-10-09T19:59:52.076663Z"
    },
    "papermill": {
     "duration": 0.036975,
     "end_time": "2022-10-09T19:59:52.080310",
     "exception": false,
     "start_time": "2022-10-09T19:59:52.043335",
     "status": "completed"
    },
    "tags": []
   },
   "outputs": [
    {
     "data": {
      "text/plain": [
       "0   15.706\n",
       "3   15.186\n",
       "4   15.895\n",
       "6   14.976\n",
       "9   16.602\n",
       "Name: SALE PRICE, dtype: float64"
      ]
     },
     "execution_count": 52,
     "metadata": {},
     "output_type": "execute_result"
    }
   ],
   "source": [
    "y.head()"
   ]
  },
  {
   "cell_type": "code",
   "execution_count": 53,
   "id": "a0c642df",
   "metadata": {
    "execution": {
     "iopub.execute_input": "2022-10-09T19:59:52.135028Z",
     "iopub.status.busy": "2022-10-09T19:59:52.134304Z",
     "iopub.status.idle": "2022-10-09T19:59:52.154895Z",
     "shell.execute_reply": "2022-10-09T19:59:52.153724Z"
    },
    "papermill": {
     "duration": 0.049958,
     "end_time": "2022-10-09T19:59:52.157158",
     "exception": false,
     "start_time": "2022-10-09T19:59:52.107200",
     "status": "completed"
    },
    "tags": []
   },
   "outputs": [
    {
     "data": {
      "text/html": [
       "<div>\n",
       "<style scoped>\n",
       "    .dataframe tbody tr th:only-of-type {\n",
       "        vertical-align: middle;\n",
       "    }\n",
       "\n",
       "    .dataframe tbody tr th {\n",
       "        vertical-align: top;\n",
       "    }\n",
       "\n",
       "    .dataframe thead th {\n",
       "        text-align: right;\n",
       "    }\n",
       "</style>\n",
       "<table border=\"1\" class=\"dataframe\">\n",
       "  <thead>\n",
       "    <tr style=\"text-align: right;\">\n",
       "      <th></th>\n",
       "      <th>RESIDENTIAL UNITS</th>\n",
       "      <th>COMMERCIAL UNITS</th>\n",
       "      <th>TOTAL UNITS</th>\n",
       "      <th>LAND SQUARE FEET</th>\n",
       "      <th>GROSS SQUARE FEET</th>\n",
       "      <th>YEAR BUILT</th>\n",
       "      <th>NEIGHBORHOOD_BOROUGH PARK</th>\n",
       "      <th>NEIGHBORHOOD_CANARSIE</th>\n",
       "      <th>NEIGHBORHOOD_EAST NEW YORK</th>\n",
       "      <th>NEIGHBORHOOD_FLUSHING-NORTH</th>\n",
       "      <th>NEIGHBORHOOD_OTHER NB</th>\n",
       "      <th>BUILDING CLASS CATEGORY_01 ONE FAMILY DWELLINGS</th>\n",
       "      <th>BUILDING CLASS CATEGORY_02 TWO FAMILY DWELLINGS</th>\n",
       "      <th>BUILDING CLASS CATEGORY_03 THREE FAMILY DWELLINGS</th>\n",
       "      <th>BUILDING CLASS CATEGORY_07 RENTALS - WALKUP APARTMENTS</th>\n",
       "      <th>BUILDING CLASS AT PRESENT_A2</th>\n",
       "      <th>BUILDING CLASS AT PRESENT_A5</th>\n",
       "      <th>BUILDING CLASS AT PRESENT_A9</th>\n",
       "      <th>BUILDING CLASS AT PRESENT_B1</th>\n",
       "      <th>BUILDING CLASS AT PRESENT_B2</th>\n",
       "      <th>BUILDING CLASS AT PRESENT_B3</th>\n",
       "      <th>BUILDING CLASS AT PRESENT_B9</th>\n",
       "      <th>BUILDING CLASS AT PRESENT_C0</th>\n",
       "      <th>BUILDING CLASS AT PRESENT_OTHER NB</th>\n",
       "      <th>TAX CLASS AT TIME OF SALE_2</th>\n",
       "      <th>TAX CLASS AT TIME OF SALE_4</th>\n",
       "      <th>BOROUGH_2</th>\n",
       "      <th>BOROUGH_3</th>\n",
       "      <th>BOROUGH_4</th>\n",
       "      <th>BOROUGH_5</th>\n",
       "    </tr>\n",
       "  </thead>\n",
       "  <tbody>\n",
       "    <tr>\n",
       "      <th>0</th>\n",
       "      <td>5</td>\n",
       "      <td>0</td>\n",
       "      <td>5</td>\n",
       "      <td>7.399</td>\n",
       "      <td>8.770</td>\n",
       "      <td>7.550</td>\n",
       "      <td>0</td>\n",
       "      <td>0</td>\n",
       "      <td>0</td>\n",
       "      <td>0</td>\n",
       "      <td>1</td>\n",
       "      <td>0</td>\n",
       "      <td>0</td>\n",
       "      <td>0</td>\n",
       "      <td>1</td>\n",
       "      <td>0</td>\n",
       "      <td>0</td>\n",
       "      <td>0</td>\n",
       "      <td>0</td>\n",
       "      <td>0</td>\n",
       "      <td>0</td>\n",
       "      <td>0</td>\n",
       "      <td>0</td>\n",
       "      <td>1</td>\n",
       "      <td>1</td>\n",
       "      <td>0</td>\n",
       "      <td>0</td>\n",
       "      <td>0</td>\n",
       "      <td>0</td>\n",
       "      <td>0</td>\n",
       "    </tr>\n",
       "    <tr>\n",
       "      <th>3</th>\n",
       "      <td>6</td>\n",
       "      <td>0</td>\n",
       "      <td>6</td>\n",
       "      <td>7.729</td>\n",
       "      <td>8.824</td>\n",
       "      <td>7.557</td>\n",
       "      <td>0</td>\n",
       "      <td>0</td>\n",
       "      <td>0</td>\n",
       "      <td>0</td>\n",
       "      <td>1</td>\n",
       "      <td>0</td>\n",
       "      <td>0</td>\n",
       "      <td>0</td>\n",
       "      <td>1</td>\n",
       "      <td>0</td>\n",
       "      <td>0</td>\n",
       "      <td>0</td>\n",
       "      <td>0</td>\n",
       "      <td>0</td>\n",
       "      <td>0</td>\n",
       "      <td>0</td>\n",
       "      <td>0</td>\n",
       "      <td>1</td>\n",
       "      <td>1</td>\n",
       "      <td>0</td>\n",
       "      <td>0</td>\n",
       "      <td>0</td>\n",
       "      <td>0</td>\n",
       "      <td>0</td>\n",
       "    </tr>\n",
       "    <tr>\n",
       "      <th>4</th>\n",
       "      <td>6</td>\n",
       "      <td>0</td>\n",
       "      <td>6</td>\n",
       "      <td>7.771</td>\n",
       "      <td>8.437</td>\n",
       "      <td>7.550</td>\n",
       "      <td>0</td>\n",
       "      <td>0</td>\n",
       "      <td>0</td>\n",
       "      <td>0</td>\n",
       "      <td>1</td>\n",
       "      <td>0</td>\n",
       "      <td>0</td>\n",
       "      <td>0</td>\n",
       "      <td>1</td>\n",
       "      <td>0</td>\n",
       "      <td>0</td>\n",
       "      <td>0</td>\n",
       "      <td>0</td>\n",
       "      <td>0</td>\n",
       "      <td>0</td>\n",
       "      <td>0</td>\n",
       "      <td>0</td>\n",
       "      <td>1</td>\n",
       "      <td>1</td>\n",
       "      <td>0</td>\n",
       "      <td>0</td>\n",
       "      <td>0</td>\n",
       "      <td>0</td>\n",
       "      <td>0</td>\n",
       "    </tr>\n",
       "    <tr>\n",
       "      <th>6</th>\n",
       "      <td>6</td>\n",
       "      <td>0</td>\n",
       "      <td>6</td>\n",
       "      <td>7.468</td>\n",
       "      <td>8.349</td>\n",
       "      <td>7.561</td>\n",
       "      <td>0</td>\n",
       "      <td>0</td>\n",
       "      <td>0</td>\n",
       "      <td>0</td>\n",
       "      <td>1</td>\n",
       "      <td>0</td>\n",
       "      <td>0</td>\n",
       "      <td>0</td>\n",
       "      <td>1</td>\n",
       "      <td>0</td>\n",
       "      <td>0</td>\n",
       "      <td>0</td>\n",
       "      <td>0</td>\n",
       "      <td>0</td>\n",
       "      <td>0</td>\n",
       "      <td>0</td>\n",
       "      <td>0</td>\n",
       "      <td>1</td>\n",
       "      <td>1</td>\n",
       "      <td>0</td>\n",
       "      <td>0</td>\n",
       "      <td>0</td>\n",
       "      <td>0</td>\n",
       "      <td>0</td>\n",
       "    </tr>\n",
       "    <tr>\n",
       "      <th>9</th>\n",
       "      <td>6</td>\n",
       "      <td>0</td>\n",
       "      <td>6</td>\n",
       "      <td>8.410</td>\n",
       "      <td>9.194</td>\n",
       "      <td>7.561</td>\n",
       "      <td>0</td>\n",
       "      <td>0</td>\n",
       "      <td>0</td>\n",
       "      <td>0</td>\n",
       "      <td>1</td>\n",
       "      <td>0</td>\n",
       "      <td>0</td>\n",
       "      <td>0</td>\n",
       "      <td>0</td>\n",
       "      <td>0</td>\n",
       "      <td>0</td>\n",
       "      <td>0</td>\n",
       "      <td>0</td>\n",
       "      <td>0</td>\n",
       "      <td>0</td>\n",
       "      <td>0</td>\n",
       "      <td>0</td>\n",
       "      <td>1</td>\n",
       "      <td>1</td>\n",
       "      <td>0</td>\n",
       "      <td>0</td>\n",
       "      <td>0</td>\n",
       "      <td>0</td>\n",
       "      <td>0</td>\n",
       "    </tr>\n",
       "  </tbody>\n",
       "</table>\n",
       "</div>"
      ],
      "text/plain": [
       "   RESIDENTIAL UNITS  COMMERCIAL UNITS  TOTAL UNITS  LAND SQUARE FEET  \\\n",
       "0                  5                 0            5             7.399   \n",
       "3                  6                 0            6             7.729   \n",
       "4                  6                 0            6             7.771   \n",
       "6                  6                 0            6             7.468   \n",
       "9                  6                 0            6             8.410   \n",
       "\n",
       "   GROSS SQUARE FEET  YEAR BUILT  NEIGHBORHOOD_BOROUGH PARK  \\\n",
       "0              8.770       7.550                          0   \n",
       "3              8.824       7.557                          0   \n",
       "4              8.437       7.550                          0   \n",
       "6              8.349       7.561                          0   \n",
       "9              9.194       7.561                          0   \n",
       "\n",
       "   NEIGHBORHOOD_CANARSIE  NEIGHBORHOOD_EAST NEW YORK  \\\n",
       "0                      0                           0   \n",
       "3                      0                           0   \n",
       "4                      0                           0   \n",
       "6                      0                           0   \n",
       "9                      0                           0   \n",
       "\n",
       "   NEIGHBORHOOD_FLUSHING-NORTH  NEIGHBORHOOD_OTHER NB  \\\n",
       "0                            0                      1   \n",
       "3                            0                      1   \n",
       "4                            0                      1   \n",
       "6                            0                      1   \n",
       "9                            0                      1   \n",
       "\n",
       "   BUILDING CLASS CATEGORY_01 ONE FAMILY DWELLINGS                      \\\n",
       "0                                                  0                     \n",
       "3                                                  0                     \n",
       "4                                                  0                     \n",
       "6                                                  0                     \n",
       "9                                                  0                     \n",
       "\n",
       "   BUILDING CLASS CATEGORY_02 TWO FAMILY DWELLINGS                      \\\n",
       "0                                                  0                     \n",
       "3                                                  0                     \n",
       "4                                                  0                     \n",
       "6                                                  0                     \n",
       "9                                                  0                     \n",
       "\n",
       "   BUILDING CLASS CATEGORY_03 THREE FAMILY DWELLINGS                    \\\n",
       "0                                                  0                     \n",
       "3                                                  0                     \n",
       "4                                                  0                     \n",
       "6                                                  0                     \n",
       "9                                                  0                     \n",
       "\n",
       "   BUILDING CLASS CATEGORY_07 RENTALS - WALKUP APARTMENTS               \\\n",
       "0                                                  1                     \n",
       "3                                                  1                     \n",
       "4                                                  1                     \n",
       "6                                                  1                     \n",
       "9                                                  0                     \n",
       "\n",
       "   BUILDING CLASS AT PRESENT_A2  BUILDING CLASS AT PRESENT_A5  \\\n",
       "0                             0                             0   \n",
       "3                             0                             0   \n",
       "4                             0                             0   \n",
       "6                             0                             0   \n",
       "9                             0                             0   \n",
       "\n",
       "   BUILDING CLASS AT PRESENT_A9  BUILDING CLASS AT PRESENT_B1  \\\n",
       "0                             0                             0   \n",
       "3                             0                             0   \n",
       "4                             0                             0   \n",
       "6                             0                             0   \n",
       "9                             0                             0   \n",
       "\n",
       "   BUILDING CLASS AT PRESENT_B2  BUILDING CLASS AT PRESENT_B3  \\\n",
       "0                             0                             0   \n",
       "3                             0                             0   \n",
       "4                             0                             0   \n",
       "6                             0                             0   \n",
       "9                             0                             0   \n",
       "\n",
       "   BUILDING CLASS AT PRESENT_B9  BUILDING CLASS AT PRESENT_C0  \\\n",
       "0                             0                             0   \n",
       "3                             0                             0   \n",
       "4                             0                             0   \n",
       "6                             0                             0   \n",
       "9                             0                             0   \n",
       "\n",
       "   BUILDING CLASS AT PRESENT_OTHER NB  TAX CLASS AT TIME OF SALE_2  \\\n",
       "0                                   1                            1   \n",
       "3                                   1                            1   \n",
       "4                                   1                            1   \n",
       "6                                   1                            1   \n",
       "9                                   1                            1   \n",
       "\n",
       "   TAX CLASS AT TIME OF SALE_4  BOROUGH_2  BOROUGH_3  BOROUGH_4  BOROUGH_5  \n",
       "0                            0          0          0          0          0  \n",
       "3                            0          0          0          0          0  \n",
       "4                            0          0          0          0          0  \n",
       "6                            0          0          0          0          0  \n",
       "9                            0          0          0          0          0  "
      ]
     },
     "execution_count": 53,
     "metadata": {},
     "output_type": "execute_result"
    }
   ],
   "source": [
    "X.head()"
   ]
  },
  {
   "cell_type": "code",
   "execution_count": 54,
   "id": "85ee2962",
   "metadata": {
    "execution": {
     "iopub.execute_input": "2022-10-09T19:59:52.208018Z",
     "iopub.status.busy": "2022-10-09T19:59:52.207549Z",
     "iopub.status.idle": "2022-10-09T19:59:52.224692Z",
     "shell.execute_reply": "2022-10-09T19:59:52.223317Z"
    },
    "papermill": {
     "duration": 0.045256,
     "end_time": "2022-10-09T19:59:52.227144",
     "exception": false,
     "start_time": "2022-10-09T19:59:52.181888",
     "status": "completed"
    },
    "tags": []
   },
   "outputs": [
    {
     "name": "stdout",
     "output_type": "stream",
     "text": [
      "<class 'pandas.core.frame.DataFrame'>\n",
      "Int64Index: 27817 entries, 0 to 84546\n",
      "Data columns (total 30 columns):\n",
      " #   Column                                                               Non-Null Count  Dtype  \n",
      "---  ------                                                               --------------  -----  \n",
      " 0   RESIDENTIAL UNITS                                                    27817 non-null  int64  \n",
      " 1   COMMERCIAL UNITS                                                     27817 non-null  int64  \n",
      " 2   TOTAL UNITS                                                          27817 non-null  int64  \n",
      " 3   LAND SQUARE FEET                                                     27817 non-null  float64\n",
      " 4   GROSS SQUARE FEET                                                    27817 non-null  float64\n",
      " 5   YEAR BUILT                                                           27817 non-null  float64\n",
      " 6   NEIGHBORHOOD_BOROUGH PARK                                            27817 non-null  uint8  \n",
      " 7   NEIGHBORHOOD_CANARSIE                                                27817 non-null  uint8  \n",
      " 8   NEIGHBORHOOD_EAST NEW YORK                                           27817 non-null  uint8  \n",
      " 9   NEIGHBORHOOD_FLUSHING-NORTH                                          27817 non-null  uint8  \n",
      " 10  NEIGHBORHOOD_OTHER NB                                                27817 non-null  uint8  \n",
      " 11  BUILDING CLASS CATEGORY_01 ONE FAMILY DWELLINGS                      27817 non-null  uint8  \n",
      " 12  BUILDING CLASS CATEGORY_02 TWO FAMILY DWELLINGS                      27817 non-null  uint8  \n",
      " 13  BUILDING CLASS CATEGORY_03 THREE FAMILY DWELLINGS                    27817 non-null  uint8  \n",
      " 14  BUILDING CLASS CATEGORY_07 RENTALS - WALKUP APARTMENTS               27817 non-null  uint8  \n",
      " 15  BUILDING CLASS AT PRESENT_A2                                         27817 non-null  uint8  \n",
      " 16  BUILDING CLASS AT PRESENT_A5                                         27817 non-null  uint8  \n",
      " 17  BUILDING CLASS AT PRESENT_A9                                         27817 non-null  uint8  \n",
      " 18  BUILDING CLASS AT PRESENT_B1                                         27817 non-null  uint8  \n",
      " 19  BUILDING CLASS AT PRESENT_B2                                         27817 non-null  uint8  \n",
      " 20  BUILDING CLASS AT PRESENT_B3                                         27817 non-null  uint8  \n",
      " 21  BUILDING CLASS AT PRESENT_B9                                         27817 non-null  uint8  \n",
      " 22  BUILDING CLASS AT PRESENT_C0                                         27817 non-null  uint8  \n",
      " 23  BUILDING CLASS AT PRESENT_OTHER NB                                   27817 non-null  uint8  \n",
      " 24  TAX CLASS AT TIME OF SALE_2                                          27817 non-null  uint8  \n",
      " 25  TAX CLASS AT TIME OF SALE_4                                          27817 non-null  uint8  \n",
      " 26  BOROUGH_2                                                            27817 non-null  uint8  \n",
      " 27  BOROUGH_3                                                            27817 non-null  uint8  \n",
      " 28  BOROUGH_4                                                            27817 non-null  uint8  \n",
      " 29  BOROUGH_5                                                            27817 non-null  uint8  \n",
      "dtypes: float64(3), int64(3), uint8(24)\n",
      "memory usage: 2.1 MB\n"
     ]
    }
   ],
   "source": [
    "X.info()"
   ]
  },
  {
   "cell_type": "code",
   "execution_count": 55,
   "id": "eeecda8b",
   "metadata": {
    "execution": {
     "iopub.execute_input": "2022-10-09T19:59:52.279138Z",
     "iopub.status.busy": "2022-10-09T19:59:52.278388Z",
     "iopub.status.idle": "2022-10-09T20:02:13.577728Z",
     "shell.execute_reply": "2022-10-09T20:02:13.576410Z"
    },
    "papermill": {
     "duration": 141.353153,
     "end_time": "2022-10-09T20:02:13.605153",
     "exception": false,
     "start_time": "2022-10-09T19:59:52.252000",
     "status": "completed"
    },
    "tags": []
   },
   "outputs": [
    {
     "name": "stdout",
     "output_type": "stream",
     "text": [
      "        name  RMSE_TRAIN  RMSE_TEST  MAE_TRAIN  MAE_TEST  R2_TRAIN  R2_TEST\n",
      "10  CatBoost       0.428      0.487      0.305     0.338     0.751    0.674\n",
      "9   LightGBM       0.459      0.491      0.322     0.341     0.713    0.668\n",
      "8    XGBoost       0.391      0.501      0.281     0.347     0.792    0.654\n",
      "5         RF       0.216      0.509      0.144     0.351     0.937    0.643\n",
      "7        GBM       0.514      0.514      0.356     0.357     0.640    0.637\n",
      "6        SVR       0.541      0.527      0.368     0.361     0.603    0.618\n",
      "3        KNN       0.445      0.528      0.306     0.371     0.731    0.616\n",
      "1      Ridge       0.538      0.528      0.373     0.370     0.607    0.616\n",
      "0         LR       0.538      0.528      0.373     0.370     0.607    0.616\n",
      "4       CART       0.111      0.687      0.027     0.465     0.983    0.350\n",
      "2      Lasso       0.858      0.852      0.590     0.584     0.000   -0.000\n"
     ]
    }
   ],
   "source": [
    "from sklearn.metrics import mean_squared_error, mean_absolute_error\n",
    "def all_models(X, y, test_size=0.2, random_state=12345, classification=True):\n",
    "    from sklearn.metrics import accuracy_score, precision_score, recall_score, f1_score, \\\n",
    "        roc_auc_score, confusion_matrix, classification_report, plot_roc_curve, mean_squared_error\n",
    "\n",
    "    # Tum Base Modeller (Classification)\n",
    "    from sklearn.linear_model import LogisticRegression\n",
    "    from sklearn.neighbors import KNeighborsClassifier\n",
    "    from sklearn.tree import DecisionTreeClassifier\n",
    "    from sklearn.ensemble import RandomForestClassifier\n",
    "    from sklearn.ensemble import GradientBoostingClassifier\n",
    "    from catboost import CatBoostClassifier\n",
    "    from lightgbm import LGBMClassifier\n",
    "    from sklearn.svm import SVC\n",
    "\n",
    "    # Tum Base Modeller (Regression)\n",
    "    from catboost import CatBoostRegressor\n",
    "    from lightgbm import LGBMRegressor\n",
    "    from sklearn.ensemble import RandomForestRegressor, GradientBoostingRegressor\n",
    "    from sklearn.linear_model import LinearRegression, Ridge, Lasso, ElasticNet\n",
    "    from sklearn.neighbors import KNeighborsRegressor\n",
    "    from sklearn.svm import SVR\n",
    "    from sklearn.tree import DecisionTreeRegressor\n",
    "    from xgboost import XGBRegressor\n",
    "\n",
    "    X_train, X_test, y_train, y_test = train_test_split(X, y, test_size=0.30, random_state=random_state)\n",
    "    all_models = []\n",
    "\n",
    "    if classification:\n",
    "        models = [('LR', LogisticRegression(random_state=random_state)),\n",
    "                  ('KNN', KNeighborsClassifier()),\n",
    "                  ('CART', DecisionTreeClassifier(random_state=random_state)),\n",
    "                  ('RF', RandomForestClassifier(random_state=random_state)),\n",
    "                  ('SVM', SVC(gamma='auto', random_state=random_state)),\n",
    "                  ('XGB', GradientBoostingClassifier(random_state=random_state)),\n",
    "                  (\"LightGBM\", LGBMClassifier(random_state=random_state)),\n",
    "                  (\"CatBoost\", CatBoostClassifier(verbose=False, random_state=random_state))]\n",
    "\n",
    "        for name, model in models:\n",
    "            model.fit(X_train, y_train)\n",
    "            y_pred_train = model.predict(X_train)\n",
    "            y_pred_test = model.predict(X_test)\n",
    "            acc_train = accuracy_score(y_train, y_pred_train)\n",
    "            acc_test = accuracy_score(y_test, y_pred_test)\n",
    "            values = dict(name=name, acc_train=acc_train, acc_test=acc_test)\n",
    "            all_models.append(values)\n",
    "\n",
    "        sort_method = False\n",
    "    else:\n",
    "        models = [('LR', LinearRegression()),\n",
    "                  (\"Ridge\", Ridge()),\n",
    "                  (\"Lasso\", Lasso()),\n",
    "                  #(\"ElasticNet\", ElasticNet()),\n",
    "                  ('KNN', KNeighborsRegressor()),\n",
    "                  ('CART', DecisionTreeRegressor()),\n",
    "                  ('RF', RandomForestRegressor()),\n",
    "                  ('SVR', SVR()),\n",
    "                  ('GBM', GradientBoostingRegressor()),\n",
    "                  (\"XGBoost\", XGBRegressor()),\n",
    "                  (\"LightGBM\", LGBMRegressor()),\n",
    "                  (\"CatBoost\", CatBoostRegressor(verbose=False))]\n",
    "\n",
    "        for name, model in models:\n",
    "            model.fit(X_train, y_train)\n",
    "            y_pred_test = model.predict(X_test)\n",
    "            y_pred_train = model.predict(X_train)\n",
    "            rmse_test = np.sqrt(mean_squared_error(y_test, y_pred_test))\n",
    "            rmse_train = np.sqrt(mean_squared_error(y_train, y_pred_train))\n",
    "            mae_test =  mean_absolute_error(y_test, y_pred_test)\n",
    "            mae_train = mean_absolute_error(y_train, y_pred_train)\n",
    "            r2_error_train = model.score(X_train, y_train)\n",
    "            r2_error_test = model.score(X_test, y_test)\n",
    "            values = dict(name=name, RMSE_TRAIN=rmse_train, RMSE_TEST=rmse_test, MAE_TRAIN = mae_train, MAE_TEST = mae_test, R2_TRAIN = r2_error_train, R2_TEST = r2_error_test)\n",
    "            all_models.append(values)\n",
    "\n",
    "        sort_method = True\n",
    "    all_models_df = pd.DataFrame(all_models)\n",
    "    all_models_df = all_models_df.sort_values(all_models_df.columns[2], ascending=sort_method)\n",
    "    print(all_models_df)\n",
    "    return all_models_df\n",
    "\n",
    "all_models = all_models(X, y, test_size=0.3, random_state=46, classification=False)"
   ]
  },
  {
   "cell_type": "code",
   "execution_count": 56,
   "id": "27ee5f72",
   "metadata": {
    "execution": {
     "iopub.execute_input": "2022-10-09T20:02:13.657356Z",
     "iopub.status.busy": "2022-10-09T20:02:13.656834Z",
     "iopub.status.idle": "2022-10-09T20:02:13.666164Z",
     "shell.execute_reply": "2022-10-09T20:02:13.664645Z"
    },
    "papermill": {
     "duration": 0.038395,
     "end_time": "2022-10-09T20:02:13.668680",
     "exception": false,
     "start_time": "2022-10-09T20:02:13.630285",
     "status": "completed"
    },
    "tags": []
   },
   "outputs": [
    {
     "name": "stdout",
     "output_type": "stream",
     "text": [
      "13.502818063241929\n",
      "0.8560103766459539\n"
     ]
    }
   ],
   "source": [
    "# Comparing the results with the set.\n",
    "print(df['SALE PRICE'].mean())\n",
    "print(df['SALE PRICE'].std())"
   ]
  },
  {
   "cell_type": "code",
   "execution_count": 57,
   "id": "5da149aa",
   "metadata": {
    "execution": {
     "iopub.execute_input": "2022-10-09T20:02:13.721035Z",
     "iopub.status.busy": "2022-10-09T20:02:13.720545Z",
     "iopub.status.idle": "2022-10-09T20:03:12.906389Z",
     "shell.execute_reply": "2022-10-09T20:03:12.904940Z"
    },
    "papermill": {
     "duration": 59.240293,
     "end_time": "2022-10-09T20:03:12.934344",
     "exception": false,
     "start_time": "2022-10-09T20:02:13.694051",
     "status": "completed"
    },
    "tags": []
   },
   "outputs": [
    {
     "name": "stdout",
     "output_type": "stream",
     "text": [
      "Fitting 5 folds for each of 2 candidates, totalling 10 fits\n",
      "Catboost Tuned Model Train RMSE: 0.42924837035432845\n",
      "Catboost Tuned Model Test RMSE: 0.4874439397770261\n"
     ]
    }
   ],
   "source": [
    "from catboost import CatBoostRegressor\n",
    "X_train, X_test, y_train, y_test = train_test_split(X, y, test_size=0.30, random_state=46)\n",
    "\n",
    "\n",
    "catboost_model = CatBoostRegressor(random_state=46, verbose=False)\n",
    "\n",
    "\n",
    "catboost_params = {\"iterations\": [1000],\n",
    "                   \"learning_rate\": [0.06544899940490723,0.05],\n",
    "                   \"depth\": [6]}\n",
    "\n",
    "catboost_best_grid = GridSearchCV(catboost_model, catboost_params, cv=5, n_jobs=-1, verbose=True).fit(X, y)\n",
    "\n",
    "catboost_final = catboost_model.set_params(**catboost_best_grid.best_params_, random_state=46).fit(X_train, y_train)\n",
    "\n",
    "##########################\n",
    "# TUNED MODEL TRAIN HATASI\n",
    "##########################\n",
    "y_pred = catboost_final.predict(X_train)\n",
    "\n",
    "print(\"Catboost Tuned Model Train RMSE:\", np.sqrt(mean_squared_error(y_train, y_pred)))\n",
    "\n",
    "##########################\n",
    "# TUNED MODEL TEST HATASI\n",
    "##########################\n",
    "\n",
    "y_pred = catboost_final.predict(X_test)\n",
    "print(\"Catboost Tuned Model Test RMSE:\", np.sqrt(mean_squared_error(y_test, y_pred)))\n"
   ]
  },
  {
   "cell_type": "code",
   "execution_count": 58,
   "id": "f2347a4f",
   "metadata": {
    "execution": {
     "iopub.execute_input": "2022-10-09T20:03:12.988169Z",
     "iopub.status.busy": "2022-10-09T20:03:12.986995Z",
     "iopub.status.idle": "2022-10-09T20:03:12.995670Z",
     "shell.execute_reply": "2022-10-09T20:03:12.994364Z"
    },
    "papermill": {
     "duration": 0.038441,
     "end_time": "2022-10-09T20:03:12.998307",
     "exception": false,
     "start_time": "2022-10-09T20:03:12.959866",
     "status": "completed"
    },
    "tags": []
   },
   "outputs": [
    {
     "data": {
      "text/plain": [
       "{'depth': 6, 'iterations': 1000, 'learning_rate': 0.06544899940490723}"
      ]
     },
     "execution_count": 58,
     "metadata": {},
     "output_type": "execute_result"
    }
   ],
   "source": [
    "catboost_best_grid.best_params_"
   ]
  },
  {
   "cell_type": "code",
   "execution_count": 59,
   "id": "97880dc5",
   "metadata": {
    "execution": {
     "iopub.execute_input": "2022-10-09T20:03:13.051697Z",
     "iopub.status.busy": "2022-10-09T20:03:13.050777Z",
     "iopub.status.idle": "2022-10-09T20:03:13.716588Z",
     "shell.execute_reply": "2022-10-09T20:03:13.715209Z"
    },
    "papermill": {
     "duration": 0.69532,
     "end_time": "2022-10-09T20:03:13.719275",
     "exception": false,
     "start_time": "2022-10-09T20:03:13.023955",
     "status": "completed"
    },
    "tags": []
   },
   "outputs": [
    {
     "data": {
      "image/png": "[encoded data removed]",
      "text/plain": [
       "<Figure size 720x2160 with 1 Axes>"
      ]
     },
     "metadata": {
      "needs_background": "light"
     },
     "output_type": "display_data"
    }
   ],
   "source": [
    "#######################################\n",
    "# FEATURE IMPORTANCE\n",
    "#######################################\n",
    "\n",
    "def plot_importance(model, features, num=len(X), save=False):\n",
    "    import pandas as pd\n",
    "    import seaborn as sns\n",
    "    import matplotlib.pyplot as plt\n",
    "    feature_imp = pd.DataFrame({'Value': model.feature_importances_, 'Feature': features.columns})\n",
    "    plt.figure(figsize=(10, 30))\n",
    "    sns.set(font_scale=1)\n",
    "    sns.barplot(x=\"Value\", y=\"Feature\", data=feature_imp.sort_values(by=\"Value\",\n",
    "                                                                     ascending=False)[0:num])\n",
    "    plt.title('Features')\n",
    "    plt.tight_layout()\n",
    "    plt.show()\n",
    "    if save:\n",
    "        plt.savefig('importances.png')\n",
    "\n",
    "plot_importance(catboost_final, X_train)\n",
    "\n"
   ]
  },
  {
   "cell_type": "code",
   "execution_count": 60,
   "id": "8ae2fc59",
   "metadata": {
    "execution": {
     "iopub.execute_input": "2022-10-09T20:03:13.776111Z",
     "iopub.status.busy": "2022-10-09T20:03:13.774814Z",
     "iopub.status.idle": "2022-10-09T20:03:13.782776Z",
     "shell.execute_reply": "2022-10-09T20:03:13.781956Z"
    },
    "papermill": {
     "duration": 0.038915,
     "end_time": "2022-10-09T20:03:13.785248",
     "exception": false,
     "start_time": "2022-10-09T20:03:13.746333",
     "status": "completed"
    },
    "tags": []
   },
   "outputs": [],
   "source": [
    "feature_imp = pd.DataFrame({'Value': catboost_final.feature_importances_, 'Feature': X_train.columns})"
   ]
  },
  {
   "cell_type": "code",
   "execution_count": 61,
   "id": "fc907fb1",
   "metadata": {
    "execution": {
     "iopub.execute_input": "2022-10-09T20:03:13.841230Z",
     "iopub.status.busy": "2022-10-09T20:03:13.839968Z",
     "iopub.status.idle": "2022-10-09T20:03:13.849260Z",
     "shell.execute_reply": "2022-10-09T20:03:13.848274Z"
    },
    "papermill": {
     "duration": 0.039907,
     "end_time": "2022-10-09T20:03:13.851663",
     "exception": false,
     "start_time": "2022-10-09T20:03:13.811756",
     "status": "completed"
    },
    "tags": []
   },
   "outputs": [
    {
     "data": {
      "text/plain": [
       "array(['COMMERCIAL UNITS'], dtype=object)"
      ]
     },
     "execution_count": 61,
     "metadata": {},
     "output_type": "execute_result"
    }
   ],
   "source": [
    "importance_zero = feature_imp[feature_imp[\"Value\"] == 0][\"Feature\"].values\n",
    "importance_zero"
   ]
  },
  {
   "cell_type": "code",
   "execution_count": 62,
   "id": "e522c0ed",
   "metadata": {
    "execution": {
     "iopub.execute_input": "2022-10-09T20:03:13.908131Z",
     "iopub.status.busy": "2022-10-09T20:03:13.906863Z",
     "iopub.status.idle": "2022-10-09T20:03:13.911914Z",
     "shell.execute_reply": "2022-10-09T20:03:13.911022Z"
    },
    "papermill": {
     "duration": 0.035455,
     "end_time": "2022-10-09T20:03:13.914021",
     "exception": false,
     "start_time": "2022-10-09T20:03:13.878566",
     "status": "completed"
    },
    "tags": []
   },
   "outputs": [],
   "source": [
    "cols = df.columns"
   ]
  },
  {
   "cell_type": "code",
   "execution_count": 63,
   "id": "73fe3c37",
   "metadata": {
    "execution": {
     "iopub.execute_input": "2022-10-09T20:03:13.969924Z",
     "iopub.status.busy": "2022-10-09T20:03:13.968973Z",
     "iopub.status.idle": "2022-10-09T20:03:13.978189Z",
     "shell.execute_reply": "2022-10-09T20:03:13.977011Z"
    },
    "papermill": {
     "duration": 0.040174,
     "end_time": "2022-10-09T20:03:13.980967",
     "exception": false,
     "start_time": "2022-10-09T20:03:13.940793",
     "status": "completed"
    },
    "tags": []
   },
   "outputs": [
    {
     "data": {
      "text/plain": [
       "['RESIDENTIAL UNITS',\n",
       " 'TOTAL UNITS',\n",
       " 'LAND SQUARE FEET',\n",
       " 'GROSS SQUARE FEET',\n",
       " 'YEAR BUILT',\n",
       " 'SALE PRICE',\n",
       " 'NEIGHBORHOOD_BOROUGH PARK',\n",
       " 'NEIGHBORHOOD_CANARSIE',\n",
       " 'NEIGHBORHOOD_EAST NEW YORK',\n",
       " 'NEIGHBORHOOD_FLUSHING-NORTH',\n",
       " 'NEIGHBORHOOD_OTHER NB',\n",
       " 'BUILDING CLASS CATEGORY_01 ONE FAMILY DWELLINGS                    ',\n",
       " 'BUILDING CLASS CATEGORY_02 TWO FAMILY DWELLINGS                    ',\n",
       " 'BUILDING CLASS CATEGORY_03 THREE FAMILY DWELLINGS                  ',\n",
       " 'BUILDING CLASS CATEGORY_07 RENTALS - WALKUP APARTMENTS             ',\n",
       " 'BUILDING CLASS AT PRESENT_A2',\n",
       " 'BUILDING CLASS AT PRESENT_A5',\n",
       " 'BUILDING CLASS AT PRESENT_A9',\n",
       " 'BUILDING CLASS AT PRESENT_B1',\n",
       " 'BUILDING CLASS AT PRESENT_B2',\n",
       " 'BUILDING CLASS AT PRESENT_B3',\n",
       " 'BUILDING CLASS AT PRESENT_B9',\n",
       " 'BUILDING CLASS AT PRESENT_C0',\n",
       " 'BUILDING CLASS AT PRESENT_OTHER NB',\n",
       " 'TAX CLASS AT TIME OF SALE_2',\n",
       " 'TAX CLASS AT TIME OF SALE_4',\n",
       " 'BOROUGH_2',\n",
       " 'BOROUGH_3',\n",
       " 'BOROUGH_4',\n",
       " 'BOROUGH_5']"
      ]
     },
     "execution_count": 63,
     "metadata": {},
     "output_type": "execute_result"
    }
   ],
   "source": [
    "imp_feats = [col for col in cols if col not in importance_zero]\n",
    "imp_feats"
   ]
  },
  {
   "cell_type": "code",
   "execution_count": 64,
   "id": "0d75bbb8",
   "metadata": {
    "execution": {
     "iopub.execute_input": "2022-10-09T20:03:14.037167Z",
     "iopub.status.busy": "2022-10-09T20:03:14.036685Z",
     "iopub.status.idle": "2022-10-09T20:03:14.045040Z",
     "shell.execute_reply": "2022-10-09T20:03:14.043900Z"
    },
    "papermill": {
     "duration": 0.039824,
     "end_time": "2022-10-09T20:03:14.047671",
     "exception": false,
     "start_time": "2022-10-09T20:03:14.007847",
     "status": "completed"
    },
    "tags": []
   },
   "outputs": [],
   "source": [
    "df = df[imp_feats]"
   ]
  },
  {
   "cell_type": "markdown",
   "id": "0ce567d5",
   "metadata": {
    "papermill": {
     "duration": 0.026641,
     "end_time": "2022-10-09T20:03:14.101506",
     "exception": false,
     "start_time": "2022-10-09T20:03:14.074865",
     "status": "completed"
    },
    "tags": []
   },
   "source": [
    "## Final Model"
   ]
  },
  {
   "cell_type": "code",
   "execution_count": 65,
   "id": "3f56b8a0",
   "metadata": {
    "execution": {
     "iopub.execute_input": "2022-10-09T20:03:14.157241Z",
     "iopub.status.busy": "2022-10-09T20:03:14.156449Z",
     "iopub.status.idle": "2022-10-09T20:03:14.173054Z",
     "shell.execute_reply": "2022-10-09T20:03:14.171986Z"
    },
    "papermill": {
     "duration": 0.047471,
     "end_time": "2022-10-09T20:03:14.175762",
     "exception": false,
     "start_time": "2022-10-09T20:03:14.128291",
     "status": "completed"
    },
    "tags": []
   },
   "outputs": [],
   "source": [
    "train_df = df[df['SALE PRICE'].notnull()]\n",
    "test_df = df[df['SALE PRICE'].isnull()]\n",
    "\n",
    "y = train_df['SALE PRICE']\n",
    "X = train_df.drop([\"SALE PRICE\"], axis=1)"
   ]
  },
  {
   "cell_type": "code",
   "execution_count": 66,
   "id": "b9ad112a",
   "metadata": {
    "execution": {
     "iopub.execute_input": "2022-10-09T20:03:14.230957Z",
     "iopub.status.busy": "2022-10-09T20:03:14.230483Z",
     "iopub.status.idle": "2022-10-09T20:03:17.280324Z",
     "shell.execute_reply": "2022-10-09T20:03:17.278999Z"
    },
    "papermill": {
     "duration": 3.080855,
     "end_time": "2022-10-09T20:03:17.283266",
     "exception": false,
     "start_time": "2022-10-09T20:03:14.202411",
     "status": "completed"
    },
    "tags": []
   },
   "outputs": [],
   "source": [
    "X_train, X_test, y_train, y_test = train_test_split(X, y, test_size=0.30, random_state=46)\n",
    "\n",
    "catboost_model = CatBoostRegressor(random_state=46, verbose=False)\n",
    "\n",
    "catboost_final = catboost_model.set_params(**catboost_best_grid.best_params_, random_state=46).fit(X_train, y_train)"
   ]
  },
  {
   "cell_type": "code",
   "execution_count": 67,
   "id": "8b62f808",
   "metadata": {
    "execution": {
     "iopub.execute_input": "2022-10-09T20:03:17.339552Z",
     "iopub.status.busy": "2022-10-09T20:03:17.339106Z",
     "iopub.status.idle": "2022-10-09T20:03:17.377061Z",
     "shell.execute_reply": "2022-10-09T20:03:17.375632Z"
    },
    "papermill": {
     "duration": 0.069138,
     "end_time": "2022-10-09T20:03:17.379687",
     "exception": false,
     "start_time": "2022-10-09T20:03:17.310549",
     "status": "completed"
    },
    "tags": []
   },
   "outputs": [
    {
     "name": "stdout",
     "output_type": "stream",
     "text": [
      "Catboost Tuned Model Train RMSE: 0.42924837035432845\n",
      "Catboost Tuned Model Test RMSE: 0.4874439397770261\n"
     ]
    }
   ],
   "source": [
    "##########################\n",
    "# TUNED MODEL TRAIN HATASI\n",
    "##########################\n",
    "y_pred = catboost_final.predict(X_train)\n",
    "\n",
    "print(\"Catboost Tuned Model Train RMSE:\", np.sqrt(mean_squared_error(y_train, y_pred)))\n",
    "\n",
    "##########################\n",
    "# TUNED MODEL TEST HATASI\n",
    "##########################\n",
    "\n",
    "y_pred = catboost_final.predict(X_test)\n",
    "print(\"Catboost Tuned Model Test RMSE:\", np.sqrt(mean_squared_error(y_test, y_pred)))\n"
   ]
  },
  {
   "cell_type": "code",
   "execution_count": 68,
   "id": "d014331a",
   "metadata": {
    "execution": {
     "iopub.execute_input": "2022-10-09T20:03:17.436060Z",
     "iopub.status.busy": "2022-10-09T20:03:17.434871Z",
     "iopub.status.idle": "2022-10-09T20:03:18.131446Z",
     "shell.execute_reply": "2022-10-09T20:03:18.129701Z"
    },
    "papermill": {
     "duration": 0.728417,
     "end_time": "2022-10-09T20:03:18.134917",
     "exception": false,
     "start_time": "2022-10-09T20:03:17.406500",
     "status": "completed"
    },
    "tags": []
   },
   "outputs": [
    {
     "data": {
      "image/png": "[encoded data removed]",
      "text/plain": [
       "<Figure size 720x2160 with 1 Axes>"
      ]
     },
     "metadata": {},
     "output_type": "display_data"
    }
   ],
   "source": [
    "#######################################\n",
    "# FEATURE IMPORTANCE\n",
    "#######################################\n",
    "\n",
    "def plot_importance(model, features, num=len(X), save=False):\n",
    "    import pandas as pd\n",
    "    import seaborn as sns\n",
    "    import matplotlib.pyplot as plt\n",
    "    feature_imp = pd.DataFrame({'Value': model.feature_importances_, 'Feature': features.columns})\n",
    "    plt.figure(figsize=(10, 30))\n",
    "    sns.set(font_scale=1)\n",
    "    sns.barplot(x=\"Value\", y=\"Feature\", data=feature_imp.sort_values(by=\"Value\",\n",
    "                                                                     ascending=False)[0:num])\n",
    "    plt.title('Features')\n",
    "    plt.tight_layout()\n",
    "    plt.show()\n",
    "    if save:\n",
    "        plt.savefig('importances.png')\n",
    "\n",
    "plot_importance(catboost_final, X_train)"
   ]
  }
 ],
 "metadata": {
  "kernelspec": {
   "display_name": "Python 3",
   "language": "python",
   "name": "python3"
  },
  "language_info": {
   "codemirror_mode": {
    "name": "ipython",
    "version": 3
   },
   "file_extension": ".py",
   "mimetype": "text/x-python",
   "name": "python",
   "nbconvert_exporter": "python",
   "pygments_lexer": "ipython3",
   "version": "3.7.12"
  },
  "papermill": {
   "default_parameters": {},
   "duration": 229.4699,
   "end_time": "2022-10-09T20:03:20.787723",
   "environment_variables": {},
   "exception": null,
   "input_path": "__notebook__.ipynb",
   "output_path": "__notebook__.ipynb",
   "parameters": {},
   "start_time": "2022-10-09T19:59:31.317823",
   "version": "2.3.4"
  }
 },
 "nbformat": 4,
 "nbformat_minor": 5
}
